{
  "cells": [
    {
      "cell_type": "code",
      "execution_count": null,
      "metadata": {
        "id": "waQAXu8YGG2v"
      },
      "outputs": [],
      "source": [
        "import numpy as np\n",
        "import matplotlib.pyplot as plt\n",
        "import pandas as pd"
      ]
    },
    {
      "cell_type": "markdown",
      "metadata": {
        "id": "kW1B2A9ZG8NT"
      },
      "source": [
        "PREPROCESSING"
      ]
    },
    {
      "cell_type": "code",
      "execution_count": null,
      "metadata": {
        "id": "m6jl_azOGfdJ"
      },
      "outputs": [],
      "source": [
        "import pandas as pd\n",
        "import numpy as np\n",
        "\n",
        "def data_preprocessing(filename):\n",
        "    # Takes an excel file with the first column being names\n",
        "    # ---------------In the form [f1,f2,f3..fn,class]----------%\n",
        "    whole_data = pd.read_excel(filename).values\n",
        "    endeffector_coor = whole_data[:, :-1]\n",
        "    motor = whole_data[:, -1]\n",
        "\n",
        "    # for 66% split\n",
        "    P = np.random.permutation(motor.shape[0])\n",
        "    traindata = endeffector_coor[P[:round(0.66*motor.shape[0])], :]\n",
        "    # trainout = motor[P[:round(0.66*motor.shape[0])], :]\n",
        "\n",
        "\n",
        "    # testdata = endeffector_coor[P[round(0.66*motor.shape[0])+1:], :]\n",
        "    # testout = motor[P[round(0.66*motor.shape[0])+1:], :]\n",
        "\n",
        "    trainout = motor[P[:round(0.66*motor.shape[0])], np.newaxis]\n",
        "    testdata = endeffector_coor[P[round(0.66*motor.shape[0])+1:], :]\n",
        "    testout = motor[P[round(0.66*motor.shape[0])+1:], np.newaxis]\n",
        "\n",
        "    return traindata, trainout, testdata, testout\n",
        "\n"
      ]
    },
    {
      "cell_type": "code",
      "execution_count": null,
      "metadata": {
        "id": "y69LPEJgRtMt"
      },
      "outputs": [],
      "source": [
        "\n",
        "#     # Uncomment the following lines if you want to use specific subsets of the data\n",
        "#     # traindata = traindata[:9, :]\n",
        "#     # trainout = trainout[:9]\n",
        "#     # testdata = testdata[:5, :]\n",
        "#     # testout = testout[:5]\n",
        "\n",
        "#     return traindata, trainout, testdata, testout\n"
      ]
    },
    {
      "cell_type": "markdown",
      "metadata": {
        "id": "2riMfPQiG_AZ"
      },
      "source": [
        "MIN MAX"
      ]
    },
    {
      "cell_type": "code",
      "execution_count": null,
      "metadata": {
        "id": "MWVe2PJFHAlt"
      },
      "outputs": [],
      "source": [
        "def minmax(data, newmax, newmin):\n",
        "    arr = np.zeros(data.shape)\n",
        "    data_min = np.min(data, axis=0)\n",
        "    data_max = np.max(data, axis=0)\n",
        "    data_range = data_max - data_min\n",
        "\n",
        "    range2 = newmax - newmin\n",
        "\n",
        "    for i in range(data.shape[0]):\n",
        "        for j in range(data.shape[1]):\n",
        "            arr[i, j] = (data[i, j] - data_min[j]) / data_range[j]\n",
        "            arr[i, j] = (arr[i, j] * range2) + newmin\n",
        "\n",
        "    return arr\n",
        "\n"
      ]
    },
    {
      "cell_type": "markdown",
      "metadata": {
        "id": "1F37o5YSHGs3"
      },
      "source": [
        "CREATE NEURON"
      ]
    },
    {
      "cell_type": "code",
      "execution_count": null,
      "metadata": {
        "id": "cyqBp-vtHP13"
      },
      "outputs": [],
      "source": [
        "import numpy as np\n",
        "\n",
        "def createneuron(inp_for_sys, cnt_MF):\n",
        "    datapoints = []\n",
        "    if cnt_MF % 2:  # odd\n",
        "        sd_cnt = cnt_MF // 2\n",
        "        sd_cnt = 3 / sd_cnt\n",
        "        datapoints.append(inp_for_sys)\n",
        "    else:\n",
        "        sd_cnt = cnt_MF / 2\n",
        "        sd_cnt = 3 / sd_cnt\n",
        "\n",
        "    for i in np.arange(sd_cnt, 3 + sd_cnt, sd_cnt):\n",
        "        minsigma = (inp_for_sys - (i * 3))\n",
        "        plussigma = (inp_for_sys + (i * 3))\n",
        "        datapoints.extend([minsigma, plussigma])\n",
        "\n",
        "    datapoints.sort()\n",
        "    return datapoints\n",
        "\n"
      ]
    },
    {
      "cell_type": "code",
      "execution_count": null,
      "metadata": {
        "id": "Y1zPhSWUIj-m"
      },
      "outputs": [],
      "source": [
        "def voltage(V, w, I):\n",
        "    C = 900\n",
        "    gl = 10\n",
        "    el = -70\n",
        "    delT = 2\n",
        "    Vt = -50\n",
        "    Vt = ((gl * (el - V) + gl * delT * np.exp((V - Vt) / delT) + I - w) / C)\n",
        "    return Vt\n"
      ]
    },
    {
      "cell_type": "code",
      "execution_count": null,
      "metadata": {
        "id": "Foi7jgmkInz2"
      },
      "outputs": [],
      "source": [
        "def voltage_goc(V, w, I):\n",
        "    C = 500\n",
        "    gl = 13.1\n",
        "    el = -58\n",
        "    delT = 7\n",
        "    Vx = -54\n",
        "    Vt = ((gl * (el - V) + gl * delT * np.exp((V - Vx) / delT) - I - w) / C)\n",
        "    return Vt\n"
      ]
    },
    {
      "cell_type": "code",
      "execution_count": null,
      "metadata": {
        "id": "NfCBbZ-hIqXu"
      },
      "outputs": [],
      "source": [
        "def voltage_grc(V, w, I):\n",
        "    C = 150\n",
        "    gl = 10\n",
        "    el = -70\n",
        "    delT = 4\n",
        "    Vx = -50\n",
        "    Vt = ((gl * (el - V) + gl * delT * np.exp((V - Vx) / delT) - I - w) / C)\n",
        "    return Vt"
      ]
    },
    {
      "cell_type": "code",
      "execution_count": null,
      "metadata": {
        "id": "rrtGN_xEIsZ2"
      },
      "outputs": [],
      "source": [
        "def voltage_pc(V, w, I):\n",
        "    C = 100\n",
        "    gl = 10\n",
        "    el = -65\n",
        "    delT = 2\n",
        "    Vt = -50\n",
        "    Vt = ((gl * (el - V) + gl * delT * np.exp((V - Vt) / delT) - I - w) / C)\n",
        "    return Vt"
      ]
    },
    {
      "cell_type": "code",
      "execution_count": null,
      "metadata": {
        "id": "gE8r7QWcIuaH"
      },
      "outputs": [],
      "source": [
        "def ad_current(V, w):\n",
        "    el = -70\n",
        "    a = -10\n",
        "    tw = 0.71\n",
        "    wt = (a * (V - el) - w) / tw\n",
        "    return wt"
      ]
    },
    {
      "cell_type": "code",
      "execution_count": null,
      "metadata": {
        "id": "9EpD2GG-IwmO"
      },
      "outputs": [],
      "source": [
        "def ad_current_goc(V, w):\n",
        "    el = -58\n",
        "    a = -17\n",
        "    tw = 8.7\n",
        "    wt = (a * (V - el) - w) / tw\n",
        "    return wt"
      ]
    },
    {
      "cell_type": "code",
      "execution_count": null,
      "metadata": {
        "id": "51fhjpiWIyjO"
      },
      "outputs": [],
      "source": [
        "def ad_current_grc(V, w):\n",
        "    el = -70\n",
        "    a = 9\n",
        "    tw = 13\n",
        "    wt = ((a * (V - el) - w) / tw)\n",
        "    return wt"
      ]
    },
    {
      "cell_type": "code",
      "execution_count": null,
      "metadata": {
        "id": "YEbXFtLaI0Yv"
      },
      "outputs": [],
      "source": [
        "def ad_current_pc(V, w):\n",
        "    el = -65\n",
        "    a = -13\n",
        "    tw = 1\n",
        "    wt = ((a * (V - el) - w) / tw)\n",
        "    return wt"
      ]
    },
    {
      "cell_type": "code",
      "execution_count": null,
      "metadata": {
        "id": "RmyEf2xrI2CI"
      },
      "outputs": [],
      "source": [
        "def synaptic_conductance(gc):\n",
        "    taue = 6\n",
        "    gc = -gc / taue\n",
        "    return gc"
      ]
    },
    {
      "cell_type": "markdown",
      "metadata": {
        "id": "Ti5gPBHYJUgU"
      },
      "source": [
        "Euler AdEx"
      ]
    },
    {
      "cell_type": "code",
      "execution_count": null,
      "metadata": {
        "id": "GiSuDyT5I33X"
      },
      "outputs": [],
      "source": [
        "import numpy as np\n",
        "\n",
        "def Voltage(V, w, I):\n",
        "    C = 900\n",
        "    gl = 10\n",
        "    el = -70\n",
        "    delT = 2\n",
        "    Vt = -50\n",
        "    Vt = ((gl * (el - V) + gl * delT * np.exp((V - Vt) / delT) + I - w) / C)\n",
        "    return Vt\n",
        "\n",
        "def AdCurrent(V, w):\n",
        "    # Define the AdCurrent function here\n",
        "    el = -70\n",
        "    a = -10\n",
        "    tw = 0.71\n",
        "    wt = (a * (V - el) - w) / tw\n",
        "    return wt\n",
        "\n",
        "def EulerAdEx(I):\n",
        "    # To generate mossyfiber patterns\n",
        "    dt = 0.025\n",
        "    x = np.arange(0, 300 + dt, dt)\n",
        "    V = []\n",
        "    w = []\n",
        "    VV = []\n",
        "    spiketime = np.zeros(len(x))\n",
        "    mfspike = []\n",
        "    Vr = -58\n",
        "    b = 265\n",
        "    el = -70\n",
        "    i = 0\n",
        "    V.append(-60)\n",
        "    w.append(V[0] - el)\n",
        "    sp_cnt = 0\n",
        "    for t in x:\n",
        "        V.append(V[i] + dt * Voltage(V[i], w[i], I))\n",
        "        w.append(w[i] + dt * AdCurrent(V[i], w[i]))\n",
        "        if V[i] > 0:\n",
        "            VV.append(0)\n",
        "            V[i + 1] = Vr\n",
        "            w[i + 1] = w[i + 1] + b\n",
        "            spiketime[i] = 1\n",
        "            mfspike.append(t)\n",
        "            sp_cnt += 1\n",
        "        else:\n",
        "            VV.append(V[i + 1])\n",
        "        i += 1\n",
        "    return mfspike\n",
        "\n",
        "\n"
      ]
    },
    {
      "cell_type": "markdown",
      "metadata": {
        "id": "CG5IgkIqJboC"
      },
      "source": [
        "Euler GOC"
      ]
    },
    {
      "cell_type": "code",
      "execution_count": null,
      "metadata": {
        "id": "RVJuFqyuJnlr"
      },
      "outputs": [],
      "source": [
        "import numpy as np\n",
        "\n",
        "def VoltageGoC(V, w, I):\n",
        "    # Placeholder for the actual function implementation\n",
        "    C = 500\n",
        "    gl = 13.1\n",
        "    el = -58\n",
        "    delT = 7\n",
        "    Vx = -54\n",
        "    Vt = ((gl * (el - V) + gl * delT * np.exp((V - Vx) / delT) - I - w) / C)\n",
        "    return Vt\n",
        "\n",
        "\n",
        "def AdCurrentGoC(V, w):\n",
        "    el = -58\n",
        "    a = -17\n",
        "    tw = 8.7\n",
        "    wt = (a * (V - el) - w) / tw\n",
        "    return wt\n",
        "\n",
        "def synaptic_conductance(gc):\n",
        "    taue = 6\n",
        "    gc = -gc / taue\n",
        "    return gc\n",
        "\n",
        "def EulerGoC(times, wt):\n",
        "    V = []\n",
        "    w = []\n",
        "    VV = []\n",
        "    Goc_times = []\n",
        "    temp = []\n",
        "    dt = 1\n",
        "    time = 300\n",
        "    x = np.arange(0, time + dt, dt)\n",
        "    j = 1\n",
        "    flg = 0\n",
        "    i = 0\n",
        "    gc = 0\n",
        "    k = 0\n",
        "    cnt = 0\n",
        "    Vr = -50\n",
        "    b = 1033\n",
        "    el = -58\n",
        "    V.append(-58)\n",
        "    w.append(V[0] - el)\n",
        "    for t in x:\n",
        "        if (not len(times) == 0):\n",
        "            while t == round(times[k]):\n",
        "                gc += wt[k]\n",
        "                if k < len(times) - 1:\n",
        "                    k += 1\n",
        "                elif k == len(times) - 1:\n",
        "                    gc -= wt[k]\n",
        "                    break\n",
        "        I = gc * (V[i] - 0)\n",
        "        # Euler method for ODE\n",
        "        V.append(V[i] + dt * VoltageGoC(V[i], w[i], I))\n",
        "        w.append(w[i] + dt * AdCurrentGoC(V[i], w[i]))\n",
        "        gc += dt * synaptic_conductance(gc)\n",
        "        if V[i + 1] > 30:\n",
        "            VV.append(30)\n",
        "            V[i + 1] = Vr\n",
        "            w[i + 1] += b\n",
        "            flg = 0\n",
        "        else:\n",
        "            VV.append(V[i + 1])\n",
        "        i += 1\n",
        "        # Checking threshold crossing\n",
        "        if V[i] > -40 and flg == 0:\n",
        "            flg = 1\n",
        "            Goc_times.append(1)  # Set activity=1 at the time of spike\n",
        "            temp.append(t)\n",
        "            cnt += 1\n",
        "        else:\n",
        "            Goc_times.append(0)\n",
        "        j += 1\n",
        "    return VV, Goc_times, temp\n",
        "\n",
        "\n"
      ]
    },
    {
      "cell_type": "markdown",
      "metadata": {
        "id": "TM8A1SpuJvz8"
      },
      "source": [
        "Euler GRC"
      ]
    },
    {
      "cell_type": "code",
      "execution_count": null,
      "metadata": {
        "id": "OmO5TL9GJxpE"
      },
      "outputs": [],
      "source": [
        "import numpy as np\n",
        "\n",
        "def VoltageGrC(V, w, I):\n",
        "    C = 150\n",
        "    gl = 10\n",
        "    el = -70\n",
        "    delT = 4\n",
        "    Vx = -50\n",
        "    Vt = ((gl * (el - V) + gl * delT * np.exp((V - Vx) / delT) - I - w) / C)\n",
        "    return Vt\n",
        "\n",
        "def AdCurrentGrC(V, w):\n",
        "    el = -70\n",
        "    a = 9\n",
        "    tw = 13\n",
        "    wt = ((a * (V - el) - w) / tw)\n",
        "    return wt\n",
        "\n",
        "def synaptic_conductance(gc):\n",
        "    taue = 6\n",
        "    gc = - gc / taue\n",
        "    return gc\n",
        "\n",
        "def EulerGrC(times, wt):\n",
        "    dt = 1  # time interval 1ms\n",
        "    time = 300\n",
        "    x = np.arange(0, time + dt, dt)\n",
        "    V = []\n",
        "    w = []\n",
        "    VV = []\n",
        "    j = 1\n",
        "    n = 0\n",
        "    Vr = -64\n",
        "    flg = 0\n",
        "    b = 250\n",
        "    el = -70\n",
        "    i = 0\n",
        "    gc = 0\n",
        "    k = 0\n",
        "    V.append(-70)\n",
        "    w.append(V[i] - el)\n",
        "    PC_times = []\n",
        "    temp = []\n",
        "    cnt = 0\n",
        "    for t in x:\n",
        "        if times.size != 0:\n",
        "            while t == round(times[k]):\n",
        "                gc += wt[k]\n",
        "                if k < len(times)-1:  # checking the array limit exceeding condition\n",
        "                    k += 1\n",
        "                elif k == len(times) - 1:\n",
        "                    gc -= wt[k]\n",
        "                    break\n",
        "        I = gc * (V[i] - 0)\n",
        "        # Euler method for ODE\n",
        "        V.append(V[i] + dt * VoltageGrC(V[i], w[i], I))\n",
        "        w.append(w[i] + dt * AdCurrentGrC(V[i], w[i]))\n",
        "        gc += dt * synaptic_conductance(gc)\n",
        "        if V[i + 1] > 30:\n",
        "            VV.append(30)\n",
        "            V[i + 1] = Vr\n",
        "            w[i + 1] += b\n",
        "            flg = 0\n",
        "        else:\n",
        "            VV.append(V[i + 1])\n",
        "        i += 1\n",
        "        if (V[i] > -40) and (flg == 0):\n",
        "            flg = 1\n",
        "            PC_times.append(1)  # set activity=1 at the time of spike\n",
        "            n += 1\n",
        "            temp.append(t)\n",
        "            cnt += 1\n",
        "        else:\n",
        "            PC_times.append(0)\n",
        "        j += 1\n",
        "    return VV, PC_times, temp #, n\n",
        "\n",
        "\n"
      ]
    },
    {
      "cell_type": "markdown",
      "metadata": {
        "id": "WB--NbkqKLlu"
      },
      "source": [
        "Euler PC"
      ]
    },
    {
      "cell_type": "code",
      "execution_count": null,
      "metadata": {
        "id": "Bfe8ccXlKOKt"
      },
      "outputs": [],
      "source": [
        "import numpy as np\n",
        "\n",
        "def VoltagePC(V, w, I):\n",
        "    C = 100\n",
        "    gl = 10\n",
        "    el = -65\n",
        "    delT = 2\n",
        "    Vt = -50\n",
        "    Vt = ((gl * (el - V) + gl * delT * np.exp((V - Vt) / delT) - I - w) / C)\n",
        "    return Vt\n",
        "\n",
        "def AdCurrentPC(V, w):\n",
        "    el = -65\n",
        "    a = -13\n",
        "    tw = 1\n",
        "    wt = ((a * (V - el) - w) / tw)\n",
        "    return wt\n",
        "\n",
        "def synaptic_conductance(gc):\n",
        "    taue = 6\n",
        "    gc = -gc / taue\n",
        "    return gc\n",
        "\n",
        "def EulerPC(PC_output):\n",
        "    dt = 1  # time interval = 1ms\n",
        "    x = np.arange(0, 301, dt)\n",
        "    V = []\n",
        "    w = []\n",
        "    VV = []\n",
        "    Vr = -58\n",
        "    b = 260\n",
        "    el = -65\n",
        "    pC = []\n",
        "    i = 0\n",
        "    flg = 0\n",
        "    V.append(-60)\n",
        "    w.append(V[0] - el)\n",
        "    PCspik = 0\n",
        "    gc = 0\n",
        "    for t in x:\n",
        "        if PC_output != 0:\n",
        "            gc += PC_output[i]\n",
        "        I = gc * (V[i] - 0)\n",
        "        V.append(V[i] + dt * VoltagePC(V[i], w[i], I))\n",
        "        w.append(w[i] + dt * AdCurrentPC(V[i], w[i]))\n",
        "        gc += dt * synaptic_conductance(gc)\n",
        "        if V[i + 1] > 30:\n",
        "            VV.append(30)\n",
        "            V[i + 1] = Vr\n",
        "            w[i + 1] += b\n",
        "            flg = 0\n",
        "        else:\n",
        "            VV.append(V[i + 1])\n",
        "        if V[i + 1] > -40 and flg == 0:\n",
        "            flg = 1\n",
        "            PCspik += 1\n",
        "            pC.append(t)  # store spike time\n",
        "        i += 1\n",
        "    return VV, pC\n",
        "\n",
        "\n"
      ]
    },
    {
      "cell_type": "markdown",
      "metadata": {
        "id": "fgGdXOjDKYo1"
      },
      "source": [
        "Spiketime2matrix"
      ]
    },
    {
      "cell_type": "code",
      "execution_count": null,
      "metadata": {
        "id": "f4-niihJKljW"
      },
      "outputs": [],
      "source": [
        "# import numpy as np\n",
        "\n",
        "# def spiktime2matrix(spike_positions):\n",
        "#     timeser = []\n",
        "#     cnt = 0\n",
        "#     for spk_pos in spike_positions:\n",
        "#         for row in spk_pos:\n",
        "#             temp_row = []\n",
        "#             I = np.where(row != 0)[0]\n",
        "#             if len(I) == 0:\n",
        "#                 temp_row.append(0)\n",
        "#             else:\n",
        "#                 for k in range(I[-1] + 1):\n",
        "#                     temp_row.append(row[k])\n",
        "#             timeser.append(temp_row)\n",
        "#             cnt += 1\n",
        "#     # Convert list of lists to a numpy array for similar functionality as MATLAB matrix\n",
        "#     timeser = np.array([np.pad(row, (0, max(0, max(map(len, timeser)) - len(row))), 'constant') for row in timeser])\n",
        "#     return timeser"
      ]
    },
    {
      "cell_type": "markdown",
      "metadata": {
        "id": "NWghJZoZKoXW"
      },
      "source": [
        "Raster"
      ]
    },
    {
      "cell_type": "code",
      "execution_count": null,
      "metadata": {
        "id": "khjYINQ0KyIO"
      },
      "outputs": [],
      "source": [
        "import matplotlib.pyplot as plt\n",
        "import numpy as np\n",
        "\n",
        "def raster(spike_position):\n",
        "    dt = np.arange(0, 300.025, 0.025)\n",
        "    plt.figure()\n",
        "    cnt = 0\n",
        "    for j in range(len(spike_position)):\n",
        "        for i in range(len(spike_position[j])):\n",
        "            spikePos = []\n",
        "            cnt += 1\n",
        "            temp = np.where(spike_position[j][i])[0]\n",
        "            for k in temp:\n",
        "                spikePos.append(np.where(dt == spike_position[j][i][k])[0][0])\n",
        "            for k in spikePos:\n",
        "                plt.plot([dt[k], dt[k]], [cnt-0.4, cnt+0.4], 'r')\n",
        "    plt.show()\n",
        "\n",
        "\n"
      ]
    },
    {
      "cell_type": "markdown",
      "metadata": {
        "id": "wYC5Cx-aK0Le"
      },
      "source": [
        "Gauss Kernel"
      ]
    },
    {
      "cell_type": "code",
      "execution_count": null,
      "metadata": {
        "id": "QFZgE_7hUjYI"
      },
      "outputs": [],
      "source": [
        "# import numpy as np\n",
        "# from scipy.stats import norm\n",
        "# from scipy.signal import convolve2d\n",
        "\n",
        "# def gauss_kernel(inp_for_sys, cnt_MF):\n",
        "#     inp_for_sys = (inp_for_sys - inp_for_sys.min()) / (255 - 20) * (inp_for_sys.max() - inp_for_sys.min()) + 20\n",
        "#     x = np.arange(-360, 360.1, 0.1)\n",
        "#     mf_spiketime = [None] * len(inp_for_sys)\n",
        "#     for loop_j in range(len(inp_for_sys)):\n",
        "#         stor_sum_val = []\n",
        "#         datapoints = np.zeros((len(inp_for_sys[loop_j]), cnt_MF))\n",
        "#         new_storing_mat = np.zeros((1, cnt_MF))\n",
        "#         mf_spike = [[None for _ in range(cnt_MF)] for _ in range(len(inp_for_sys[loop_j]))]\n",
        "#         for i in range(len(inp_for_sys[loop_j])):\n",
        "#             norm_pdf = norm.pdf(x, inp_for_sys[loop_j][i], 10)\n",
        "#             norm_conv = convolve2d(norm_pdf.reshape(-1, 1), np.array([inp_for_sys[loop_j][i]]).reshape(1, -1), mode='same')\n",
        "#             norm_conv = (norm_conv - norm_conv.min()) / (norm_conv.max() - norm_conv.min())\n",
        "#             datapoints[i, :] = createneuron(inp_for_sys[loop_j][i], cnt_MF)  # Assuming createneuron is defined elsewhere\n",
        "#             wt = (inp_for_sys[loop_j][i] / 3) * len(datapoints[i])\n",
        "#             l_dp = np.isclose(x, datapoints[i], atol=0.1)\n",
        "#             find_dp = np.where(l_dp)[0]\n",
        "#             #stor_sum = wt * norm_conv[find_dp] #1\n",
        "#             wt = np.full_like(norm_conv[find_dp], (inp_for_sys[loop_j][i] / 3) * len(datapoints[i]))\n",
        "#             stor_sum = wt * norm_conv[find_dp] #2\n",
        "\n",
        "\n",
        "\n",
        "#             try:\n",
        "#                 stor_sum_val = np.vstack((stor_sum_val, stor_sum))\n",
        "#             except:\n",
        "#                 stor_sum_val = np.hstack((stor_sum_val, np.zeros((stor_sum_val.shape[0], stor_sum.shape[1] - stor_sum_val.shape[1]))))\n",
        "#                 stor_sum_val = np.vstack((stor_sum_val, stor_sum))\n",
        "#             new_storing_mat = stor_sum_val\n",
        "#             for j in range(new_storing_mat.shape[1]):\n",
        "#                 mfspike = EulerAdEx(new_storing_mat[i, j])  # Assuming EulerAdEx is defined elsewhere\n",
        "#                 mf_spike[i][j] = mfspike\n",
        "\n",
        "\n",
        "\n",
        "#         celength = [len(mf_spike[i][j]) for i in range(len(mf_spike)) for j in range(len(mf_spike[i]))]\n",
        "#         m = max(celength)\n",
        "#         spike_positions = [None] * len(inp_for_sys[loop_j])\n",
        "#         for i in range(len(inp_for_sys[loop_j])):\n",
        "#             temp = []\n",
        "#             for j in range(new_storing_mat.shape[1]):\n",
        "#                 if len(mf_spike[i][j]) < m:\n",
        "#                     temp_zero = np.zeros(m - len(mf_spike[i][j]))\n",
        "#                     mf_spike[i][j] = np.hstack((mf_spike[i][j], temp_zero))\n",
        "#                 temp.append(mf_spike[i][j])\n",
        "#             spike_positions[i] = np.vstack(temp)\n",
        "#         raster(spike_positions)  # Assuming raster is defined elsewhere\n",
        "#         mf_spiketime[loop_j] = spiketime2matrix(spike_positions)  # Assuming spiketime2matrix is defined elsewhere\n",
        "#     return mf_spiketime\n"
      ]
    },
    {
      "cell_type": "code",
      "execution_count": null,
      "metadata": {
        "id": "WBzEfQF7K8eG"
      },
      "outputs": [],
      "source": [
        "import numpy as np\n",
        "from scipy.stats import norm\n",
        "from scipy.signal import convolve2d\n",
        "from scipy.interpolate import interp1d\n",
        "\n",
        "def spiktime2matrix(spike_positions):\n",
        "    timeser = []\n",
        "    cnt = 0\n",
        "    for spk_pos in spike_positions:\n",
        "        for row in spk_pos:\n",
        "            temp_row = []\n",
        "            I = np.where(row != 0)[0]\n",
        "            if len(I) == 0:\n",
        "                temp_row.append(0)\n",
        "            else:\n",
        "                for k in range(I[-1] + 1):\n",
        "                    temp_row.append(row[k])\n",
        "            timeser.append(temp_row)\n",
        "            cnt += 1\n",
        "    # Convert list of lists to a numpy array for similar functionality as MATLAB matrix\n",
        "    timeser = np.array([np.pad(row, (0, max(0, max(map(len, timeser)) - len(row))), 'constant') for row in timeser])\n",
        "    return timeser\n",
        "\n",
        "\n",
        "def gauss_kernel(inp_for_sys, cnt_MF):\n",
        "    # Normalising the features\n",
        "    inp_for_sys = minmax(np.array(inp_for_sys),255,20)\n",
        "    #print(inp_for_sys)\n",
        "    x = np.arange(-360, 360, 0.1)\n",
        "    mf_spiketime = []\n",
        "    for loop_j in range(len(inp_for_sys)):\n",
        "        #print(len(inp_for_sys))\n",
        "        stor_sum_val = []\n",
        "        datapoints = np.zeros((len(inp_for_sys[loop_j]), cnt_MF))\n",
        "        new_storing_mat = np.zeros((1, cnt_MF))\n",
        "        #mf_spike = [[None for _ in range(cnt_MF)] for _ in range(len(inp_for_sys[loop_j]))]\n",
        "        mf_spike = []\n",
        "        for i in range(len(inp_for_sys[loop_j])):\n",
        "            norm_pdf = norm.pdf(x, inp_for_sys[loop_j][i], 10)\n",
        "            #print(norm_pdf)\n",
        "            norm_conv = convolve2d(norm_pdf.reshape(-1, 1), np.array([inp_for_sys[loop_j][i]]).reshape(1,-1), mode='valid')\n",
        "            #print(\"\\n\", norm_conv, \"\\n\")\n",
        "            norm_conv = norm_conv.flatten()\n",
        "            norm_conv = (norm_conv - norm_conv.min()) / (norm_conv.max() - norm_conv.min())\n",
        "            datapoints[i, :] = createneuron(inp_for_sys[loop_j][i], cnt_MF)  # Assuming createneuron is defined elsewhere\n",
        "            wt = 2 * (inp_for_sys[loop_j][i] / 3) * len(datapoints[i])\n",
        "            #print(datapoints)\n",
        "            #l_dp = np.isclose(x, datapoints[i], atol=0.1)\n",
        "            l_dp_fake = np.isin(np.round(x,1),np.round(datapoints[i,:],1))\n",
        "            l_dp = [1 if elem else 0 for elem in l_dp_fake]\n",
        "            #print(x)\n",
        "\n",
        "            #print(np.round(x,1))\n",
        "            #print(np.round(datapoints[i,:],1))\n",
        "            #print(l_dp)\n",
        "            find_dp = np.where(l_dp)[0]\n",
        "            stor_sum = wt * norm_conv[find_dp]\n",
        "            stor_sum_val.append(stor_sum)\n",
        "            stor = np.array(stor_sum_val)\n",
        "            #print(find_dp)\n",
        "            #print(stor_sum)\n",
        "            # try:\n",
        "            #     stor_sum_val = np.vstack((stor_sum_val, stor_sum))\n",
        "            # except:\n",
        "            #     stor_sum_val = np.hstack((stor_sum_val, np.zeros((stor_sum_val.shape[0], stor_sum.shape[1] - stor_sum_val.shape[1]))))\n",
        "            #     stor_sum_val = np.vstack((stor_sum_val, stor_sum))\n",
        "            #stor_sum_val.append(stor_sum)\n",
        "            # new_storing_mat = stor_sum_val\n",
        "            # Code to find the spiketime of neurons all features\n",
        "            mf_spike_row = []\n",
        "            #print(\"The current value is :\", stor)\n",
        "            for j in range(stor.shape[1]):\n",
        "                # mfspike = EulerAdEx(new_storing_mat[i, j])\n",
        "                # mf_spike[i][j] = mfspike\n",
        "                mfspike = EulerAdEx(stor[i][j])\n",
        "                mf_spike_row.append(mfspike)\n",
        "            mf_spike.append(mf_spike_row)\n",
        "        celength = [len(mf_spike[i][j]) for i in range(len(mf_spike)) for j in range(len(mf_spike[i]))]\n",
        "        m = max(celength)\n",
        "        #print(datapoints)\n",
        "        #print(mf_spike)\n",
        "        spike_positions = []\n",
        "        for i in range(len(inp_for_sys[loop_j])):\n",
        "            temp = []\n",
        "            for j in range(stor.shape[1]):\n",
        "                if len(mf_spike[i][j]) < m:\n",
        "                    temp_zero = np.zeros(m - len(mf_spike[i][j]))\n",
        "                    mf_spike[i][j] = np.hstack((mf_spike[i][j], temp_zero))\n",
        "                temp.append(mf_spike[i][j])\n",
        "            spike_positions.append(temp)\n",
        "        #print(spike_positions)\n",
        "        # Assuming raster and spiketime2matrix are defined elsewhere\n",
        "        raster(spike_positions)  # Assuming raster is defined elsewhere\n",
        "        mf_spiketime.append(spiktime2matrix(spike_positions))  # Assuming spiketime2matrix is defined elsewhere\n",
        "    #print(\"\\n\",mf_spiketime)\n",
        "    return mf_spiketime\n",
        "\n",
        "\n"
      ]
    },
    {
      "cell_type": "markdown",
      "metadata": {
        "id": "CR_6UWS3LJ5W"
      },
      "source": [
        "Golgi cells"
      ]
    },
    {
      "cell_type": "code",
      "execution_count": null,
      "metadata": {
        "id": "ZoLuu3woLJnO"
      },
      "outputs": [],
      "source": [
        "import numpy as np\n",
        "\n",
        "class GolgiCells:\n",
        "    def __init__(self, In, Out):\n",
        "        self.NofGoc = Out  # 1 MF can give to 53 GrC and each GrC can get 4 MF connections\n",
        "        self.NofMo = In  # Number of mossy fibre\n",
        "        #self.MF_Goc_wt = np.random.rand(self.NofMo, self.NofGoc)  # MF_Grc synapse eg 21*279 wtmfgrc;randi(10,1,1)*\n",
        "        self.MF_Goc_wt = np.random.uniform(1, 10, size=(self.NofMo,self.NofGoc))\n",
        "        self.Goc_VV = []\n",
        "        self.Grc_input = []\n",
        "        #self.Goc_time = np.zeros((1, 100))\n",
        "        self.Goc_time = []\n",
        "\n",
        "    def Goc2Grcinput(self, I_curr):\n",
        "        # Defining the spike patterns for Grc\n",
        "        # Calculating and storing all the presynaptic spike times and\n",
        "        # the corresponding weights\n",
        "        print(self.NofGoc)\n",
        "        print(self.MF_Goc_wt)\n",
        "        for i in range(self.NofGoc):\n",
        "            for j in range(self.NofMo):\n",
        "                Inp_Goc_time = np.sort(I_curr.reshape(1, -1))\n",
        "                Inp_Goc_time = Inp_Goc_time[np.nonzero(Inp_Goc_time)]\n",
        "                #print(len(Inp_Goc_time))\n",
        "                wt = np.zeros(len(Inp_Goc_time))\n",
        "                for k in range(len(Inp_Goc_time)):\n",
        "                    r = np.where(I_curr == Inp_Goc_time[k])[0]\n",
        "                    #print(i,r)\n",
        "                    if len(r) == 1:\n",
        "                        wt[k] = self.MF_Goc_wt[r][i]\n",
        "                    else:\n",
        "                        #print(k,k+len(r), r, i)\n",
        "                        wt[k:k+len(r)-1] = self.MF_Goc_wt[r][i]\n",
        "                        k += len(r) - 1\n",
        "            print(wt)\n",
        "            self.Goc_VV, self.Grc_input, temp = EulerGoC(Inp_Goc_time, wt)\n",
        "            try:\n",
        "                #self.Goc_time[i, :len(temp)] = temp\n",
        "                self.Goc_time.append(temp)\n",
        "            except:\n",
        "                temp = np.pad(temp, (0, self.Goc_time.shape[1] - len(temp)), 'constant', constant_values=0)\n",
        "                self.Goc_time[i, :] = temp\n",
        "        print(self.Goc_time)\n",
        "        self.Goc_time = np.array(self.Goc_time)\n",
        "        return self.Goc_VV, self.Grc_input, self.Goc_time\n",
        "\n",
        "\n"
      ]
    },
    {
      "cell_type": "markdown",
      "metadata": {
        "id": "-nvqiiWULsW_"
      },
      "source": [
        "Sparsnessindex"
      ]
    },
    {
      "cell_type": "code",
      "execution_count": null,
      "metadata": {
        "id": "aTqBF8EILu8g"
      },
      "outputs": [],
      "source": [
        "def sparsenessindx(I_firingrate, noofstimuli):\n",
        "    A = 0\n",
        "    B = 0\n",
        "    for i in range(noofstimuli):\n",
        "        A += (I_firingrate[i] / noofstimuli)\n",
        "        B += ((I_firingrate[i] ** 2) / noofstimuli)\n",
        "    C = A ** 2 / B\n",
        "    S = (1 - C) / (1 - (1 / noofstimuli))\n",
        "    return S\n",
        "\n",
        "\n"
      ]
    },
    {
      "cell_type": "markdown",
      "metadata": {
        "id": "QhbS5gGHL5H_"
      },
      "source": [
        "Granule Layer"
      ]
    },
    {
      "cell_type": "code",
      "execution_count": null,
      "metadata": {
        "id": "a8olv29fL8Zv"
      },
      "outputs": [],
      "source": [
        "import numpy as np\n",
        "import random\n",
        "\n",
        "class Granulelayer:\n",
        "    def __init__(self, In, Goc):\n",
        "        self.NofGrc = (In * 53) // 4  # 1 MF can give to 53 GrC and each GrC can get 4 MF connections\n",
        "        self.NofMo = In  # Number of mossyfibre\n",
        "        self.NofGoc = Goc\n",
        "        self.MF_Grc_wt = np.random.uniform(0, 1, size =(self.NofMo, self.NofGrc))\n",
        "        self.MF_Grc_wt = self.MF_Grc_wt * 10 # MF_Grc synaptic weight\n",
        "        self.Goc_Grc_wt = np.random.uniform(0,1, size=(self.NofGrc, self.NofGoc))\n",
        "        self.Goc_Grc_wt = self.Goc_Grc_wt * 0.1\n",
        "        self.act_MF = [random.sample(range(self.NofMo), 4) for _ in range(int(self.NofGrc))]  # activated MF for each Grc\n",
        "        self.Grc_time = np.zeros((21, 100))\n",
        "        self.MF_conn = 4\n",
        "        self.Grc_VV = []\n",
        "        self.PC_input = []\n",
        "        self.Grc_time = []\n",
        "\n",
        "    def Grc2PCinput(self, I_curr, Goc_curr):\n",
        "        # Grc_VV = []\n",
        "        # PC_input = []\n",
        "        # Grc_time = []\n",
        "        lenh=0\n",
        "        #print(self.NofGrc)\n",
        "        #print(len(I_curr))\n",
        "        for i in range(self.NofGrc):\n",
        "            Inp_Grc = []  # for storing pre synaptic input for 1 Grc\n",
        "            # Inp = []\n",
        "            wt_Grc = []  # for storing pre synaptic weights for 1 Grc\n",
        "            for j in range(self.MF_conn):\n",
        "                MF = self.act_MF[i][j]\n",
        "                Inp_Grc.extend(I_curr[MF][I_curr[MF] > 0])\n",
        "                wt_Grc.extend([self.MF_Grc_wt[MF][i]] * len(I_curr[MF][I_curr[MF] > 0]))\n",
        "\n",
        "            # print(len(Inp_Grc),end=\"\\n\\n\")\n",
        "            # print(len(wt_Grc))\n",
        "            # Inp_Grc.extend(np.array([Inp]))\n",
        "            if(len(Goc_curr) == 1):\n",
        "              k=0\n",
        "            else:\n",
        "              k=i\n",
        "            Inp_Grc.extend(Goc_curr[k] * (self.NofGoc)) # There some issue with this statement\n",
        "            wt_Grc.extend(self.Goc_Grc_wt[:,k])\n",
        "\n",
        "            # print()\n",
        "            # print(len(Inp_Grc),end=\"\\n\\n\")\n",
        "            # print(len(wt_Grc))\n",
        "\n",
        "            #print(len(Inp_Grc),\"\\n\", len(wt_Grc))\n",
        "            sorted_indices = np.argsort(Inp_Grc)\n",
        "            sorted_Inp_Grc = np.array(Inp_Grc)[sorted_indices]\n",
        "            wt_Grc = np.array(wt_Grc)[sorted_indices]\n",
        "            # print(sorted_indices)\n",
        "            # print(sorted_Inp_Grc)\n",
        "            # print(wt_Grc)\n",
        "            # print(EulerGrC(sorted_Inp_Grc, wt_Grc))\n",
        "            # Here you should implement EulerGrC function or call if it's external\n",
        "\n",
        "            #EulerGrc has some calculation Errors\n",
        "            #especially PC_Input(an array of zeros) and temp(empty array) is returned\n",
        "            #print(\"\\n\\n\",len(sorted_Inp_Grc),len(wt_Grc),\"\\n\\n\")\n",
        "            # lenh += len(sorted_Inp_Grc)\n",
        "            self.Grc_VV, self.PC_input, temp = EulerGrC(sorted_Inp_Grc, wt_Grc)\n",
        "            # print(self.Grc_VV)\n",
        "            # print(len(self.PC_input))\n",
        "            # print(temp)\n",
        "            # Assuming EulerGrC is implemented and returns appropriate values\n",
        "            try:\n",
        "                #self.Grc_time[i, :len(temp)] = temp\n",
        "                self.Grc_time = np.append(self.Grc_time, temp)\n",
        "            except:\n",
        "                temp = np.pad(temp, (0, self.Grc_time.shape[0] - len(temp)), 'constant', constant_values=0)\n",
        "                self.Grc_time = np.append(self.Grc_time, temp)\n",
        "            # print(self.Grc_time)\n",
        "            # print(\"sorted\",lenh)\n",
        "            self.Grc_time = np.array(self.Grc_time)\n",
        "\n",
        "        return self.Grc_VV, self.PC_input, self.Grc_time\n",
        "\n",
        "    def Mf_Grc_wt_update(self, e2):\n",
        "        wt = self.MF_Grc_wt\n",
        "        for i, act_MF_row in enumerate(self.act_MF):\n",
        "            for MF in act_MF_row:\n",
        "                lr = 0.23\n",
        "                wt[MF, i] -= lr * e2 * wt[MF, i]\n",
        "        return wt\n",
        "\n",
        "    def MF_Grc_121(self, timeser):\n",
        "        rate = np.zeros((self.NofMo, int(self.NofGrc)))\n",
        "        for i in range(self.NofMo):\n",
        "            for j in range(int(self.NofGrc)):\n",
        "                # Here you should implement EulerGrC function or call if it's external\n",
        "                Grc_VV, PC_input, temp, rate[i, j] = EulerGrC(timeser[i], np.ones(len(timeser[i])) * self.MF_Grc_wt[i, j])\n",
        "                pass\n",
        "        firingrate_actMF = np.zeros((len(self.act_MF), 4))\n",
        "        sparseind = []\n",
        "        for j, act_MF_row in enumerate(self.act_MF):\n",
        "            for i, MF in enumerate(act_MF_row):\n",
        "                firingrate_actMF[j, i] = rate[MF, j]\n",
        "            # Assuming sparsenessindx is implemented and returns appropriate value\n",
        "            sparseind.append(sparsenessindx(firingrate_actMF[j], 4))\n",
        "        return sparseind\n",
        "\n",
        "\n"
      ]
    },
    {
      "cell_type": "markdown",
      "metadata": {
        "id": "dwxWDdfCMwBZ"
      },
      "source": [
        "purkinje layer"
      ]
    },
    {
      "cell_type": "code",
      "execution_count": null,
      "metadata": {
        "id": "kulsCyanM06S"
      },
      "outputs": [],
      "source": [
        "import numpy as np\n",
        "\n",
        "class PurkinjeLayer:\n",
        "    def __init__(self, In, Out):\n",
        "        self.NofGrc = int(round(In))\n",
        "        self.NofPC = Out\n",
        "        self.Grc_PC_wt = np.random.uniform(0,11,size=(self.NofGrc, self.NofPC))\n",
        "        self.PC_output = []\n",
        "        self.PC_time = []\n",
        "        self.PC_VV = []\n",
        "        self.act_Grc = []\n",
        "        self.Grc_conn = 48\n",
        "        temp = []\n",
        "        for i in range(self.NofPC):\n",
        "            temp.append(np.random.permutation(self.NofGrc)[:self.Grc_conn])\n",
        "        self.act_Grc = np.array(temp)\n",
        "\n",
        "    def PCAdex(self, I_curr):\n",
        "        self.PC_time = []\n",
        "        self.PC_VV = []\n",
        "        act_grc = self.act_Grc\n",
        "        wt = self.Grc_PC_wt\n",
        "        PC_output = []\n",
        "        #print(len(I_curr))\n",
        "        # print(act_grc)\n",
        "        # print(wt)\n",
        "        for i in range(self.NofPC):\n",
        "            summedup = []\n",
        "            for j in range(self.Grc_conn):\n",
        "                Grc = act_grc[i][j]\n",
        "                # print(Grc)\n",
        "                # print(I_curr[i])\n",
        "                # print(wt[i][Grc])\n",
        "                temp = I_curr[i] * wt[Grc][i]\n",
        "                summedup.append(temp)\n",
        "            summedup = np.array(summedup)\n",
        "            PC_output.append(np.sum(summedup, axis=0))\n",
        "            VV, temp = EulerPC(PC_output[i])\n",
        "            # print(VV)\n",
        "            # print(temp)\n",
        "            if i == 0:\n",
        "                self.PC_time = np.zeros((self.NofPC, len(temp)))\n",
        "            self.PC_time[i, :len(temp)] = temp\n",
        "            self.PC_VV.append(VV)\n",
        "        self.PC_output = PC_output\n",
        "        # print()\n",
        "        # print(PC_output)\n",
        "        # print(self.PC_time)\n",
        "        # print(self.PC_VV)\n",
        "        # print()\n",
        "        return self.PC_output, self.PC_time, self.PC_VV\n",
        "\n",
        "    def Pf_PC_wt_update(self, e1):\n",
        "        wt = self.Grc_PC_wt\n",
        "        actGrc = self.act_Grc\n",
        "        lr = 1.23\n",
        "        #print(e1)\n",
        "        for i in range(e1.shape[0]):\n",
        "            for j in range(actGrc.shape[0]):\n",
        "                Grc = actGrc[i,j]\n",
        "                #wt[Grc,i] out of bound issue and e1[i]\n",
        "                wt[Grc,i] -= lr * e1[i] * wt[Grc,i]\n",
        "        return wt\n",
        "\n",
        "\n"
      ]
    },
    {
      "cell_type": "markdown",
      "metadata": {
        "id": "WcH9a8GRNDXD"
      },
      "source": [
        "create network"
      ]
    },
    {
      "cell_type": "code",
      "execution_count": null,
      "metadata": {
        "id": "YxXNWamvNE4E"
      },
      "outputs": [],
      "source": [
        "import numpy as np\n",
        "\n",
        "# Assuming Golgicells, Granulelayer, and Purkinjelayer are classes defined elsewhere in Python\n",
        "# and their methods are appropriately translated from MATLAB to Python.\n",
        "def create_network(timeser, PC_count, f, e1, Goc_ob, Grc_ob, PC_ob):\n",
        "    global tot_wt\n",
        "    tot_wt = [None, None]\n",
        "    # Initial network creation\n",
        "    if f == 0:\n",
        "        MF_count = timeser.shape[0]\n",
        "        Goc_ob = GolgiCells(MF_count, 1)\n",
        "        Goc_VV, Grc_input, Goc_time = Goc_ob.Goc2Grcinput(timeser)\n",
        "        # Goc_ob.Grc_input = Grc_input\n",
        "        # Goc_ob.Goc_VV = Goc_VV\n",
        "        # Goc_ob.Goc_time = np.array(Goc_time)\n",
        "        Grc_ob = Granulelayer(MF_count, Goc_ob.Goc_time.shape[0])\n",
        "        Grc_count = Grc_ob.NofGrc\n",
        "        #print(Grc_count)\n",
        "        #print(PC_count)\n",
        "        PC_ob = PurkinjeLayer(Grc_count, PC_count)\n",
        "        #print(\"HAtt\", f)\n",
        "\n",
        "    # Weight updation at MF-Grc\n",
        "    if f != 0:\n",
        "        #print(\"Hi\")\n",
        "        mf_grc_wt = Grc_ob.Mf_Grc_wt_update(e1)\n",
        "        Grc_ob.MF_Grc_wt = mf_grc_wt\n",
        "        Goc_time = Goc_ob.Goc_time\n",
        "\n",
        "    Grc_VV, PC_input, Grc_time = Grc_ob.Grc2PCinput(timeser, Goc_time)\n",
        "    # print(\"done\")\n",
        "    # print(Grc_VV, \"\\n\" ,len(PC_input), \" \\n\", Grc_time)\n",
        "    # Grc_ob.PC_input = PC_input\n",
        "    # Grc_ob.Grc_VV = Grc_VV\n",
        "    # Grc_ob.Grc_time = Grc_time\n",
        "\n",
        "    # Weight updation at Grc-PC\n",
        "    if f != 0:\n",
        "        #print(\"Hi 2\")\n",
        "        pf_pc_wt = PC_ob.Pf_PC_wt_update(e1)\n",
        "        PC_ob.Grc_PC_wt = pf_pc_wt\n",
        "\n",
        "    PC_output, PC_time, PC_VV = PC_ob.PCAdex(PC_input)\n",
        "    #print(PC_output,\"\\n\", PC_time,\"\\n\", PC_VV)\n",
        "    # PC_ob.PC_output = PC_output\n",
        "    # PC_ob.PC_time = PC_time\n",
        "    # PC_ob.PC_VV = PC_VV\n",
        "    tot_wt[0] = Grc_ob.MF_Grc_wt\n",
        "    tot_wt[1] = PC_ob.Grc_PC_wt\n",
        "    #print(\"\\ncreate network\", f, \"done\\n\")\n",
        "    return Grc_ob, PC_ob, PC_time, Goc_ob\n",
        "\n",
        "\n"
      ]
    },
    {
      "cell_type": "markdown",
      "metadata": {
        "id": "cXkj9Kx5NZyG"
      },
      "source": [
        "init weight"
      ]
    },
    {
      "cell_type": "code",
      "execution_count": null,
      "metadata": {
        "id": "d9S9MHPcNdId"
      },
      "outputs": [],
      "source": [
        "def initWeight(x, y):\n",
        "    w = 0.01 * np.ones((x, y))\n",
        "    return w\n"
      ]
    },
    {
      "cell_type": "markdown",
      "metadata": {
        "id": "0fpOwSD8NmvF"
      },
      "source": [
        "activation function"
      ]
    },
    {
      "cell_type": "code",
      "execution_count": null,
      "metadata": {
        "id": "ZevvWCrpNqB_"
      },
      "outputs": [],
      "source": [
        "def activation(Out):\n",
        "    actvOut = 1 / (1 + np.exp(-Out))\n",
        "    return actvOut"
      ]
    },
    {
      "cell_type": "markdown",
      "metadata": {
        "id": "yZMsZNiDNt8X"
      },
      "source": [
        "summation"
      ]
    },
    {
      "cell_type": "code",
      "execution_count": null,
      "metadata": {
        "id": "9HAL1uFaNu1v"
      },
      "outputs": [],
      "source": [
        "import numpy as np\n",
        "\n",
        "def activation(x):\n",
        "    # Assuming a placeholder activation function, replace with actual function\n",
        "    return 1 / (1 + np.exp(-x))\n",
        "\n",
        "# def summation(num, r, wt, bias, hid_node):\n",
        "#     act_out = []\n",
        "#     print(\"\\n\",r,wt)\n",
        "\n",
        "#     for i in range(hid_node):\n",
        "#         sum = 0.0\n",
        "#         for j in range(num):\n",
        "#             print(r[j])\n",
        "#             print(wt[i])\n",
        "#             temp = r[j] * wt[i]#[j]#, j] #IndexError: too many indices for array: array is 1-dimensional, but 2 were indexed\n",
        "#             sum += temp\n",
        "#         Out = sum + bias\n",
        "#         act_out.append(activation(Out))\n",
        "#     return act_out\n",
        "\n",
        "def summation(num, r, wt, bias, hid_node):\n",
        "    act_out = []\n",
        "    #print(\"\\n Summation\", r, wt)\n",
        "\n",
        "    for i in range(hid_node):\n",
        "        sum = 0.0\n",
        "        if(len(wt)>num):\n",
        "          n=num\n",
        "        else:\n",
        "          n=len(wt)\n",
        "        for j in range(n):\n",
        "            # Access the correct element of wt using a consistent 2D index\n",
        "             # Assuming a 2D weight matrix\n",
        "            temp = r * wt[j]  # Reshaped for compatibility\n",
        "            sum += temp\n",
        "        Out = sum + bias\n",
        "        act_out.append(activation(Out))  # Assuming the activation function is defined\n",
        "    return act_out\n",
        "\n",
        "\n",
        "\n",
        "\n"
      ]
    },
    {
      "cell_type": "markdown",
      "metadata": {
        "id": "_OpmhxCuNv0P"
      },
      "source": [
        "forward"
      ]
    },
    {
      "cell_type": "code",
      "execution_count": null,
      "metadata": {
        "id": "Edr_QxsFNw_3"
      },
      "outputs": [],
      "source": [
        "import numpy as np\n",
        "\n",
        "def forward(inp, bias, wgt):\n",
        "    # Forward propagation\n",
        "    global hid_lay\n",
        "    global hid_node\n",
        "    global inp_node_no\n",
        "    global out_node_no\n",
        "    num = inp_node_no\n",
        "    r = inp\n",
        "    fwd = []\n",
        "    for i in range(hid_lay):\n",
        "        fwd.extend(summation(num, r, wgt[i], bias, hid_node[i]))\n",
        "        num = hid_node[i]\n",
        "        r = fwd[i]\n",
        "    fwd.extend(summation(num, r, wgt[i+1], bias, out_node_no))\n",
        "    return fwd\n",
        "\n",
        "\n"
      ]
    },
    {
      "cell_type": "markdown",
      "metadata": {
        "id": "Zjv3vYHhOhC5"
      },
      "source": [
        "cal_error"
      ]
    },
    {
      "cell_type": "code",
      "execution_count": null,
      "metadata": {
        "id": "c9QHWcx_OiH4"
      },
      "outputs": [],
      "source": [
        "import numpy as np\n",
        "\n",
        "def cal_error(inp, out, fwd, wgt):\n",
        "    global hid_node, hid_lay\n",
        "    inpt_len = len(inp)\n",
        "    out_len = len(out)\n",
        "    #print(out_len, inpt_len)\n",
        "    # -------- FINDING ERROR SIGNAL AND UPDATE WEIGHT OF OUTPUT LAYER -------\n",
        "    # Error Calculation\n",
        "    #-1\n",
        "    cal_out = fwd[1][0]\n",
        "    errSgnl_out_node = (out - cal_out) * cal_out * (1 - cal_out)\n",
        "    check = len(fwd) - 2\n",
        "    # Weight Updation\n",
        "    learng_rate = 0.01\n",
        "    err_Out = learng_rate * errSgnl_out_node\n",
        "    #print(hid_node[-1])\n",
        "    for i in range(hid_node[-1]):\n",
        "        # print(i)\n",
        "        # print(\"\\n\",wgt)\n",
        "        # print(err_Out)\n",
        "        # print(fwd[check][i])\n",
        "        #wgt[-1][0,i]\n",
        "        wgt[-1][i] -= (err_Out * fwd[check][i])\n",
        "    # -------- FINDING ERROR SIGNAL AND UPDATE WEIGHT OF HIDDEN LAYER -------\n",
        "    errSgnl = [None] * (hid_lay + 2)\n",
        "    errSgnl[hid_lay + 1] = errSgnl_out_node\n",
        "    for k in range(hid_lay, 0, -1):\n",
        "        if k == hid_lay:\n",
        "            lay_node = out_len\n",
        "        else:\n",
        "            lay = k + 1\n",
        "            lay_node = hid_node[lay]\n",
        "        for i in range(hid_node[k - 1]):\n",
        "            delta_error = 0\n",
        "            cal_out = fwd[check][i]\n",
        "            for j in range(lay_node):\n",
        "                #delta_error += errSgnl[k + 1][j, 0] * wgt[k][j, i] 1D arrays 2 indexes given\n",
        "                delta_error += errSgnl[k+1] * wgt[k]\n",
        "            errSgnl[k] = np.zeros((hid_node[k - 1], 1))\n",
        "            # setting an array element with a sequence\n",
        "            #[0,i]\n",
        "            errSgnl[k] = delta_error * cal_out * (1 - cal_out) * learng_rate\n",
        "            if hid_lay == 1 or k == 1:\n",
        "                m_node = inpt_len\n",
        "                for l in range(m_node):\n",
        "                    #IndexError: too many indices for array: array is 1-dimensional, but 2 were indexed\n",
        "                    #[i,1]\n",
        "                    wgt[k - 1] -= errSgnl[k] * inp[l]\n",
        "            else:\n",
        "                m = k - 1\n",
        "                m_node = hid_node[m - 1]\n",
        "                for l in range(m_node):\n",
        "                    wgt[k - 1][i, l] -= errSgnl[k] * fwd[check - 1][0, l]\n",
        "        check -= 1\n",
        "    return wgt\n",
        "\n",
        "\n"
      ]
    },
    {
      "cell_type": "markdown",
      "metadata": {
        "id": "sg08IDzhOuiO"
      },
      "source": [
        "decoding"
      ]
    },
    {
      "cell_type": "code",
      "execution_count": null,
      "metadata": {
        "id": "SXFUxiDzPBSJ"
      },
      "outputs": [],
      "source": [
        "import numpy as np\n",
        "\n",
        "def decoding(n_inp, dset, iter, weight, err_with_sign, fwd):\n",
        "    # Decoding with layered structure\n",
        "    global hid_lay\n",
        "    global hid_node\n",
        "    global inp_node_no\n",
        "    global out_node_no\n",
        "    inp_node_no = n_inp.shape[0]\n",
        "    out_node_no = 1\n",
        "    inp = n_inp[0 :]  # setting input pattern\n",
        "    out = dset  # setting output value\n",
        "    bias = 0.01  # setting bias value\n",
        "    if iter != 0:\n",
        "        if err_with_sign:\n",
        "            wgt = cal_error(inp, out, fwd, weight)\n",
        "            weight = wgt\n",
        "    # ---------------- Weight Initialization --------------%\n",
        "    #print(\"Weight Initialization\")\n",
        "    if iter == 0:\n",
        "        weight = []\n",
        "        hid_lay = 1\n",
        "        hid_node = [2] * hid_lay\n",
        "        num = inp_node_no\n",
        "        for k in range(hid_lay):\n",
        "            weight=np.append(weight, initWeight(hid_node[k], num))\n",
        "            num = hid_node[k]\n",
        "        weight = np.append(weight,initWeight(out_node_no, num))\n",
        "        weight = weight.reshape(2,-1)\n",
        "    # ----------------------------------------------------%\n",
        "    #print(weight,  fwd, end=\"\\n\\n\")\n",
        "    fwd = forward(inp, bias, weight)  # Forward propagation\n",
        "    # print(fwd)\n",
        "    fwd_sam = np.array(fwd)\n",
        "    fwd_sam = fwd_sam.reshape(1,-1)\n",
        "    # print(fwd_sam)\n",
        "    #-1\n",
        "    final = fwd_sam[0][-1]\n",
        "    # For 2 class label\n",
        "    if final <= 0.5:\n",
        "        final = 1\n",
        "    else:\n",
        "        final = 2\n",
        "    # For 3 class label\n",
        "    # if final <= 0.35:\n",
        "    #     final = 1\n",
        "    # elif 0.35 < final <= 0.70:\n",
        "    #     final = 2\n",
        "    # else:\n",
        "    #     final = 3\n",
        "    return final, weight, fwd\n",
        "\n",
        "\n"
      ]
    },
    {
      "cell_type": "markdown",
      "metadata": {
        "id": "kFGWfwOSPU0L"
      },
      "source": [
        "spike_cnt_calc"
      ]
    },
    {
      "cell_type": "code",
      "execution_count": null,
      "metadata": {
        "id": "U6P6vonfPnLD"
      },
      "outputs": [],
      "source": [
        "import numpy as np\n",
        "\n",
        "def spik_cnt_calc(obtained):\n",
        "    # Calculating the number of spikes in a trace\n",
        "    timespan = 300\n",
        "    bin_dt = 50\n",
        "    spike_count = np.zeros(int(timespan/bin_dt))\n",
        "    cntr = 0\n",
        "    for i in range(1, timespan, bin_dt):\n",
        "        cntr += 1\n",
        "        A = np.sum(obtained <= i)\n",
        "        B = np.sum(obtained <= i + bin_dt)\n",
        "        spike_count[cntr-1] = B - A\n",
        "    return spike_count\n",
        "\n",
        "\n"
      ]
    },
    {
      "cell_type": "markdown",
      "metadata": {
        "id": "QrwVJIn9PoiC"
      },
      "source": [
        "training"
      ]
    },
    {
      "cell_type": "code",
      "execution_count": null,
      "metadata": {
        "id": "zL8ItR79PxIq"
      },
      "outputs": [],
      "source": [
        "import numpy as np\n",
        "\n",
        "def training(spike_positions, out, f, Goc_ob, Grc_ob, PC_ob, fwd):\n",
        "    global tot_wt\n",
        "    global motor_err\n",
        "    global it\n",
        "    global wt_4_memoryconsolidated\n",
        "    pre_mtr_angle = {}\n",
        "    err_with_sign = np.zeros((len(spike_positions), 1))\n",
        "    for it in range(0, 10):\n",
        "        print(it)\n",
        "        for k in range(len(spike_positions)):\n",
        "            mf_spiketime = spike_positions[k]\n",
        "            # Spike train updation with the new weights\n",
        "            if it == 0:\n",
        "                Grc_ob, PC_ob, PC_time, Goc_ob = create_network(mf_spiketime, out.shape[1], f, motor_err[it], Goc_ob, Grc_ob, PC_ob)\n",
        "            else:\n",
        "                Grc_ob, PC_ob, PC_time, Goc_ob = create_network(mf_spiketime, out.shape[1], f, motor_err[it][k, :], Goc_ob, Grc_ob, PC_ob)\n",
        "            # Decoding spike trains after the updation\n",
        "            temp = spik_cnt_calc(PC_time[0, :])\n",
        "            # print(temp)\n",
        "            # print(out[k,0])\n",
        "            # print(it)\n",
        "            # print(wt_4_memoryconsolidated[it][0][2])\n",
        "            # print(fwd[0][0])\n",
        "            if it == 0:\n",
        "              #wt_4_memory[it][0][2][0][0] index out of bound issues out[k,0]\n",
        "                pre_mtr_angle[k], wt, fwd[0][0] = decoding(temp, out[k], it, wt_4_memoryconsolidated[it][2], motor_err[it], fwd[0][0])\n",
        "            else:\n",
        "                pre_mtr_angle[k], wt, fwd[0][0] = decoding(temp, out[k], it, wt_4_memoryconsolidated[it][2], motor_err[it][k,0], fwd[0][0])\n",
        "            err_with_sign[k, 0] = out[k, 0] - pre_mtr_angle[k]\n",
        "            if it + 1 >= len(motor_err):\n",
        "                motor_err.append(np.zeros((len(spike_positions), 1)))\n",
        "            motor_err[it + 1][k, 0] = err_with_sign[k, 0]\n",
        "            #print(len(tot_wt))\n",
        "            #tot_wt[2][0,0]\n",
        "            tot_wt.append(wt)\n",
        "            wt_4_memoryconsolidated.append(tot_wt)\n",
        "        tot = np.sum(np.abs(motor_err[-1]))\n",
        "        if tot == 0:\n",
        "            break\n",
        "    return Grc_ob, PC_ob, pre_mtr_angle, err_with_sign\n",
        "\n",
        "\n"
      ]
    },
    {
      "cell_type": "markdown",
      "metadata": {
        "id": "tBDUeROEPq3D"
      },
      "source": [
        "testpart"
      ]
    },
    {
      "cell_type": "code",
      "execution_count": null,
      "metadata": {
        "id": "A-QuKQDdPybK"
      },
      "outputs": [],
      "source": [
        "import numpy as np\n",
        "\n",
        "def testpart(mf_spike_time,testdata, testout, cnt_MF, Goc_ob, Grc_ob, PC_ob):\n",
        "    # Assuming gauss_kernel, spik_cnt_calc, and decoding are defined elsewhere\n",
        "    global wt_4_memoryconsolidated\n",
        "    # Encode test data into spike trains\n",
        "    #mf_spiketime = gauss_kernel(testdata, cnt_MF)\n",
        "    print(mf_spiketime)\n",
        "    pre_mtr_angle = np.zeros((testdata.shape[0], 1))\n",
        "    err = np.zeros((testdata.shape[0], 1))\n",
        "    fwd=0\n",
        "    for k in range(testdata.shape[0]):\n",
        "        Goc_time = Goc_ob.Goc_time\n",
        "        #_, _, Goc_time = Goc_ob.Goc2Grcinput(mf_spiketime)\n",
        "        _, PC_input, _ = Grc_ob.Grc2PCinput(mf_spiketime[k], Goc_time)\n",
        "        PC_output, PC_time, PC_VV = PC_ob.PCAdex(PC_input)\n",
        "        PC_ob.PC_output = PC_output\n",
        "        PC_ob.PC_time = PC_time\n",
        "        PC_ob.PC_VV = PC_VV\n",
        "        temp = spik_cnt_calc(PC_time[0, :])\n",
        "        #wt_4_memoryconsolidated[-1][0][2][0][0]\n",
        "        # print(temp)\n",
        "        # print(testout[k][0])\n",
        "        # print(wt_4_memoryconsolidated[-1][2])\n",
        "        # print(fwd)\n",
        "        pre_mtr_angle[k][0], _, fwd = decoding(temp, testout[k][0], 2, wt_4_memoryconsolidated[-1][2], err[k], fwd)\n",
        "        err[k, 0] = abs(testout[k, 0] - pre_mtr_angle[k, 0])\n",
        "    return pre_mtr_angle, err\n",
        "\n",
        "\n"
      ]
    },
    {
      "cell_type": "markdown",
      "metadata": {
        "id": "KiPWZ__eVbNo"
      },
      "source": [
        "plot GOC"
      ]
    },
    {
      "cell_type": "code",
      "execution_count": null,
      "metadata": {
        "id": "QCDjjICSVg0p"
      },
      "outputs": [],
      "source": [
        "import matplotlib.pyplot as plt\n",
        "\n",
        "def plotGoc(Goc_ob, c):\n",
        "    Goc_VV = Goc_ob.Goc_VV\n",
        "    Goc_time = Goc_ob.Goc_time\n",
        "\n",
        "    #Uncomment to use the previously commented MATLAB code in Python\n",
        "    plt.figure(1)\n",
        "    y = range(1, Goc_ob.MF_Goc_wt.shape[1] + 1)\n",
        "    for i in range(Goc_ob.MF_Goc_wt.shape[0]):\n",
        "        z = Goc_ob.MF_Goc_wt[i, :]\n",
        "        x = [i] * Goc_ob.MF_Goc_wt.shape[1]\n",
        "        plt.scatter(x, y, z, c=c)\n",
        "    plt.show()\n",
        "\n",
        "    plt.figure(2)\n",
        "    for i in range(Goc_time.shape[0]):\n",
        "        for j in np.nonzero(Goc_time[i, :])[0]:\n",
        "            plt.plot([Goc_time[i][j], Goc_time[i][j]], [i - 0.4, i + 0.4], c)\n",
        "    plt.show()\n",
        "\n",
        "    plt.figure(3)\n",
        "    plt.plot(np.median(Goc_VV), c)\n",
        "    plt.xlim([0, 300])\n",
        "    #plt.ylim([-80, 80])\n",
        "    plt.show()\n"
      ]
    },
    {
      "cell_type": "markdown",
      "metadata": {
        "id": "R1jfB2uVVcue"
      },
      "source": [
        "plot GRC"
      ]
    },
    {
      "cell_type": "code",
      "execution_count": null,
      "metadata": {
        "id": "pMmofEHzVhKY"
      },
      "outputs": [],
      "source": [
        "import matplotlib.pyplot as plt\n",
        "import numpy as np\n",
        "\n",
        "def plotGrc(Grc_ob,c):\n",
        "    # Assuming Grc_ob is an object with attributes similar to MATLAB structure\n",
        "    Grc_VV = np.array(Grc_ob.Grc_VV)\n",
        "    Grc_time = Grc_ob.Grc_time\n",
        "\n",
        "#   Plotting for figure 4\n",
        "    plt.figure(4)\n",
        "    y = np.arange(1, Grc_ob.MF_Grc_wt.shape[1] + 1)\n",
        "    for i in range(Grc_ob.MF_Grc_wt.shape[0]):\n",
        "      z = Grc_ob.MF_Grc_wt[i, :]\n",
        "      x = [i] * Grc_ob.MF_Grc_wt.shape[1]\n",
        "      plt.scatter(x, y, z, c=c)\n",
        "    plt.show()\n",
        "\n",
        "    # Plotting for figure 6\n",
        "    plt.figure(6)\n",
        "    for i in range(Grc_time.shape[0]):\n",
        "      for j in np.nonzero(Grc_time[i])[0]:\n",
        "        plt.plot([Grc_time[i], Grc_time[i]], [i - 0.4, i + 0.4], c)\n",
        "    plt.show()\n",
        "\n",
        "    # Plotting for figure 7\n",
        "    plt.figure(7)\n",
        "    plt.plot(np.median(Grc_VV, axis=0), c)\n",
        "    plt.xlim([0, 300])\n",
        "    plt.show()\n"
      ]
    },
    {
      "cell_type": "markdown",
      "metadata": {
        "id": "KZL5jgOHVfh6"
      },
      "source": [
        "plot PC"
      ]
    },
    {
      "cell_type": "code",
      "execution_count": null,
      "metadata": {
        "id": "kLrjcOSXVhjJ"
      },
      "outputs": [],
      "source": [
        "import matplotlib.pyplot as plt\n",
        "import numpy as np\n",
        "\n",
        "def plotPC(PC_ob, c):\n",
        "    PC_VV = np.array(PC_ob.PC_VV)\n",
        "\n",
        "    plt.figure(5)\n",
        "    y = np.arange(1, PC_ob.Grc_PC_wt.shape[1] + 1)\n",
        "    for i in range(PC_ob.Grc_PC_wt.shape[0]):\n",
        "        z = PC_ob.Grc_PC_wt[i, :]\n",
        "        x = [i] * PC_ob.Grc_PC_wt.shape[1]\n",
        "        plt.scatter(x, y, z, c=c)\n",
        "    plt.show()\n",
        "\n",
        "    plt.figure(8)\n",
        "    #print(PC_VV.shape)\n",
        "    plt.plot(PC_VV[0, :], c)\n",
        "    plt.xlim([0, 300])\n",
        "    plt.ylim([-70, 30])\n",
        "    plt.show()\n",
        "\n",
        "    PC_time = PC_ob.PC_time\n",
        "    plt.figure(9)\n",
        "    for i in range(PC_time.shape[0]):\n",
        "        for j in np.where(PC_time[i, :] > 0)[0]:\n",
        "            plt.plot([PC_time[i, j], PC_time[i, j]], [i - 0.4, i + 0.4], c)\n",
        "            # plt.hold(True)\n",
        "        # plt.hold(True)\n",
        "    # plt.hold(True)\n",
        "    plt.show()\n",
        "\n",
        "    plt.figure(10)\n",
        "    plt.plot(np.mean(PC_VV, axis=0), c)\n",
        "    plt.xlim([0, 300])\n",
        "    # plt.hold(True)\n",
        "    plt.show()\n"
      ]
    },
    {
      "cell_type": "markdown",
      "metadata": {
        "id": "h_pKYn1wPtcr"
      },
      "source": [
        "DLCISNN"
      ]
    },
    {
      "cell_type": "code",
      "execution_count": null,
      "metadata": {
        "colab": {
          "base_uri": "https://localhost:8080/",
          "height": 1000
        },
        "id": "gqH4PWnLQtE7",
        "outputId": "84a7f712-290b-4212-db33-fc35414eabf4"
      },
      "outputs": [
        {
          "name": "stdout",
          "output_type": "stream",
          "text": [
            "[[2 3 2 2]\n",
            " [2 2 1 2]\n",
            " [3 3 2 1]\n",
            " [1 2 2 1]\n",
            " [3 2 1 1]\n",
            " [1 1 1 2]\n",
            " [1 2 1 2]\n",
            " [3 1 2 2]\n",
            " [1 3 2 2]]\n",
            "[[3 1 1 2]\n",
            " [2 2 2 2]\n",
            " [1 1 1 1]\n",
            " [2 3 2 1]]\n",
            "----------------------Encoding------------------\n",
            "Enter the number of MFneurons to be created for each feature: 7\n"
          ]
        },
        {
          "output_type": "stream",
          "name": "stderr",
          "text": [
            "<ipython-input-72-5bea9d1a0c75>:9: RuntimeWarning: overflow encountered in exp\n",
            "  Vt = ((gl * (el - V) + gl * delT * np.exp((V - Vt) / delT) + I - w) / C)\n"
          ]
        },
        {
          "output_type": "display_data",
          "data": {
            "text/plain": [
              "<Figure size 640x480 with 1 Axes>"
            ],
            "image/png": "[encoded data removed]"
          },
          "metadata": {}
        },
        {
          "output_type": "stream",
          "name": "stderr",
          "text": [
            "<ipython-input-79-a436e47ea48e>:12: DeprecationWarning: Calling nonzero on 0d arrays is deprecated, as it behaves surprisingly. Use `atleast_1d(cond).nonzero()` if the old behavior was intended. If the context of this warning is of the form `arr[nonzero(cond)]`, just use `arr[cond]`.\n",
            "  I = np.where(row != 0)[0]\n"
          ]
        },
        {
          "output_type": "display_data",
          "data": {
            "text/plain": [
              "<Figure size 640x480 with 1 Axes>"
            ],
            "image/png": "[encoded data removed]"
          },
          "metadata": {}
        },
        {
          "output_type": "display_data",
          "data": {
            "text/plain": [
              "<Figure size 640x480 with 1 Axes>"
            ],
            "image/png": "[encoded data removed]"
          },
          "metadata": {}
        },
        {
          "output_type": "display_data",
          "data": {
            "text/plain": [
              "<Figure size 640x480 with 1 Axes>"
            ],
            "image/png": "[encoded data removed]"
          },
          "metadata": {}
        },
        {
          "output_type": "display_data",
          "data": {
            "text/plain": [
              "<Figure size 640x480 with 1 Axes>"
            ],
            "image/png": "[encoded data removed]"
          },
          "metadata": {}
        },
        {
          "output_type": "display_data",
          "data": {
            "text/plain": [
              "<Figure size 640x480 with 1 Axes>"
            ],
            "image/png": "[encoded data removed]"
          },
          "metadata": {}
        },
        {
          "output_type": "display_data",
          "data": {
            "text/plain": [
              "<Figure size 640x480 with 1 Axes>"
            ],
            "image/png": "[encoded data removed]"
          },
          "metadata": {}
        },
        {
          "output_type": "display_data",
          "data": {
            "text/plain": [
              "<Figure size 640x480 with 1 Axes>"
            ],
            "image/png": "[encoded data removed]"
          },
          "metadata": {}
        },
        {
          "output_type": "display_data",
          "data": {
            "text/plain": [
              "<Figure size 640x480 with 1 Axes>"
            ],
            "image/png": "[encoded data removed]"
          },
          "metadata": {}
        },
        {
          "output_type": "display_data",
          "data": {
            "text/plain": [
              "<Figure size 640x480 with 1 Axes>"
            ],
            "image/png": "[encoded data removed]"
          },
          "metadata": {}
        },
        {
          "output_type": "display_data",
          "data": {
            "text/plain": [
              "<Figure size 640x480 with 1 Axes>"
            ],
            "image/png": "[encoded data removed]"
          },
          "metadata": {}
        },
        {
          "output_type": "display_data",
          "data": {
            "text/plain": [
              "<Figure size 640x480 with 1 Axes>"
            ],
            "image/png": "[encoded data removed]"
          },
          "metadata": {}
        },
        {
          "output_type": "display_data",
          "data": {
            "text/plain": [
              "<Figure size 640x480 with 1 Axes>"
            ],
            "image/png": "[encoded data removed]"
          },
          "metadata": {}
        },
        {
          "output_type": "stream",
          "name": "stdout",
          "text": [
            "13\n"
          ]
        }
      ],
      "source": [
        "import time\n",
        "import pandas as pd\n",
        "import numpy as np\n",
        "\n",
        "# Global variables\n",
        "tot_wt = None\n",
        "motor_err = None\n",
        "wt_4_memoryconsolidated = None\n",
        "\n",
        "start_time = time.time()\n",
        "# ------------------Extracting data from excel file---------------------\n",
        "filename = 'tennis.xlsx'\n",
        "traindata, trainout, testdata, testout = data_preprocessing(filename)\n",
        "print(traindata)\n",
        "print(testdata)\n",
        "t = traindata.shape[0]\n",
        "\n",
        "print('----------------------Encoding------------------')\n",
        "# finding the mossy fibre spike positions(a cell array) with 7 neurons\n",
        "# spike positions for each feature\n",
        "cnt_MF = int(input('Enter the number of MFneurons to be created for each feature: '))\n",
        "data = np.vstack((traindata,testdata))\n",
        "mf_spiketime = gauss_kernel(data, cnt_MF)\n",
        "print(len(mf_spiketime))\n",
        "# print('----------------Creating cerebellar network-------------------')\n",
        "# print(mf_spiketime[0])\n",
        "# print(trainout.shape[0])\n",
        "# Grc_ob, PC_ob, PC_time, Goc_ob = create_network(mf_spiketime[0], trainout.shape[0], 0, 0, 0,0,0)\n",
        "# # Rate coding PC output into bins\n",
        "# temp = spik_cnt_calc(PC_time[0, :])\n",
        "# print(temp)\n",
        "# print('----------------Decoding-------------------')\n",
        "# # pre_mtr_angle = [None]\n",
        "# # pre_mtr_angle[0], wt, fwd = [None], None, [[None]]\n",
        "# # pre_mtr_angle[0][0], wt, fwd[0][0] = decoding(temp, trainout[0, 0], 0, 0, 0, 0)\n",
        "# pre_mtr_angle = [None]\n",
        "# pre_mtr_angle[0], wt, fwd = [None], None, [[None]]\n",
        "# decoded_value, wt, fwd_value = decoding(temp, trainout[0, 0], 0, 0, 0, 0)\n",
        "\n",
        "# if decoded_value is not None:\n",
        "#     pre_mtr_angle[0] = decoded_value\n",
        "\n",
        "# print(\"\\n\\n Weight:\",wt)\n",
        "# # Check the type of wt and reshape if necessary\n",
        "# if wt is not None:\n",
        "#     if isinstance(wt, list):\n",
        "\n",
        "#       max_len = max(len(sublist) for sublist in wt)  # find the maximum sub-list length\n",
        "#       wt = np.array([sublist + [0] * (max_len - len(sublist)) for sublist in wt])\n",
        "\n",
        "#       wt.reshape((2, -1))  # Reshape after padding\n",
        "\n",
        "# if fwd_value is not None and fwd is not None:\n",
        "#     fwd[0][0] = fwd_value\n",
        "\n",
        "# print('----------------Error and weight consolidation-------------------')\n",
        "# err_with_sign = np.array([[trainout[0, 0] - pre_mtr_angle[0][0]]])\n",
        "# motor_err = [None]\n",
        "# motor_err[0] = np.array([[err_with_sign[0, 0]]])\n",
        "# print(tot_wt)\n",
        "# #tot_wt = [None, None, [None]]\n",
        "# tot_wt.append(wt)\n",
        "# # Weight in the network for each input pattern is stored\n",
        "# wt_4_memoryconsolidated = [tot_wt]\n",
        "# print('------------------------Training phase------------------------')\n",
        "# print(trainout,fwd)\n",
        "# Grc_ob, PC_ob, _, err_with_sign = training(mf_spiketime, trainout, 1, Goc_ob, Grc_ob, PC_ob, fwd)\n",
        "# end_time = time.time()\n",
        "# print(f\"Training Time: {end_time - start_time} seconds\")\n",
        "\n",
        "# start_time = time.time()\n",
        "# print('------------------------Testing phase------------------------')\n",
        "# pre_mtr_angle, testerr = testpart(testout, testdata, cnt_MF, Goc_ob, Grc_ob, PC_ob)\n",
        "# end_time = time.time()\n",
        "# print(f\"Testing Time: {end_time - start_time} seconds\")\n",
        "\n",
        "# print('------------------------Error percent------------------------')\n",
        "# tot = np.sum(np.abs(motor_err[-1]))\n",
        "# trainerrpercent = (tot / trainout.shape[0]) * 100\n",
        "# tot1 = np.sum(np.abs(testerr))\n",
        "# testerrpercent = (tot1 / testout.shape[0]) * 100"
      ]
    },
    {
      "cell_type": "code",
      "execution_count": null,
      "metadata": {
        "colab": {
          "base_uri": "https://localhost:8080/"
        },
        "id": "gu06E4wenUuF",
        "outputId": "74add42a-ef61-44b8-f9c0-961c894948fd"
      },
      "outputs": [
        {
          "output_type": "stream",
          "name": "stdout",
          "text": [
            "----------------Creating cerebellar network-------------------\n",
            "[[  0.      0.      0.    ...   0.      0.      0.   ]\n",
            " [260.425   0.      0.    ...   0.      0.      0.   ]\n",
            " [  0.      0.      0.    ...   0.      0.      0.   ]\n",
            " ...\n",
            " [  0.      0.      0.    ...   0.      0.      0.   ]\n",
            " [260.425   0.      0.    ...   0.      0.      0.   ]\n",
            " [  0.      0.      0.    ...   0.      0.      0.   ]]\n",
            "1\n",
            "1\n",
            "[[7.63216207]\n",
            " [7.35995135]\n",
            " [6.1700364 ]\n",
            " [9.93366723]\n",
            " [3.9195822 ]\n",
            " [4.37785939]\n",
            " [6.7732433 ]\n",
            " [1.5716207 ]\n",
            " [9.23463363]\n",
            " [1.08631089]\n",
            " [1.33708613]\n",
            " [2.60705838]]\n"
          ]
        },
        {
          "output_type": "stream",
          "name": "stderr",
          "text": [
            "<ipython-input-80-155bd471b96b>:30: DeprecationWarning: Conversion of an array with ndim > 0 to a scalar is deprecated, and will error in future. Ensure you extract a single element from your array before performing this operation. (Deprecated NumPy 1.25.)\n",
            "  wt[k] = self.MF_Goc_wt[r][i]\n"
          ]
        },
        {
          "output_type": "stream",
          "name": "stdout",
          "text": [
            "[1.5716207  6.7732433  6.7732433  ... 9.93366723 9.93366723 9.93366723]\n",
            "[[44, 47, 49, 51, 53, 55, 57, 59, 61, 63, 65, 67, 69, 71]]\n",
            "[1. 2. 2. 1. 2. 2.]\n"
          ]
        }
      ],
      "source": [
        "print('----------------Creating cerebellar network-------------------')\n",
        "print(mf_spiketime[0])\n",
        "print(trainout.shape[1])\n",
        "Grc_ob, PC_ob, PC_time, Goc_ob = create_network(mf_spiketime[0], trainout.shape[1], 0, 0, 0,0,0)\n",
        "# Rate coding PC output into bins\n",
        "temp = spik_cnt_calc(PC_time[0, :])\n",
        "print(temp)"
      ]
    },
    {
      "cell_type": "code",
      "execution_count": null,
      "metadata": {
        "colab": {
          "base_uri": "https://localhost:8080/",
          "height": 1000
        },
        "id": "t_uxS2_cJNTy",
        "outputId": "83658a33-7a68-41ba-b00d-250f009dd873"
      },
      "outputs": [
        {
          "output_type": "display_data",
          "data": {
            "text/plain": [
              "<Figure size 640x480 with 1 Axes>"
            ],
            "image/png": "[encoded data removed]"
          },
          "metadata": {}
        },
        {
          "output_type": "display_data",
          "data": {
            "text/plain": [
              "<Figure size 640x480 with 1 Axes>"
            ],
            "image/png": "[encoded data removed]"
          },
          "metadata": {}
        },
        {
          "output_type": "display_data",
          "data": {
            "text/plain": [
              "<Figure size 640x480 with 1 Axes>"
            ],
            "image/png": "[encoded data removed]"
          },
          "metadata": {}
        },
        {
          "output_type": "display_data",
          "data": {
            "text/plain": [
              "<Figure size 640x480 with 1 Axes>"
            ],
            "image/png": "[encoded data removed]"
          },
          "metadata": {}
        },
        {
          "output_type": "display_data",
          "data": {
            "text/plain": [
              "<Figure size 640x480 with 1 Axes>"
            ],
            "image/png": "[encoded data removed]"
          },
          "metadata": {}
        },
        {
          "output_type": "display_data",
          "data": {
            "text/plain": [
              "<Figure size 640x480 with 1 Axes>"
            ],
            "image/png": "[encoded data removed]"
          },
          "metadata": {}
        },
        {
          "output_type": "display_data",
          "data": {
            "text/plain": [
              "<Figure size 640x480 with 1 Axes>"
            ],
            "image/png": "[encoded data removed]"
          },
          "metadata": {}
        },
        {
          "output_type": "display_data",
          "data": {
            "text/plain": [
              "<Figure size 640x480 with 1 Axes>"
            ],
            "image/png": "[encoded data removed]"
          },
          "metadata": {}
        },
        {
          "output_type": "display_data",
          "data": {
            "text/plain": [
              "<Figure size 640x480 with 1 Axes>"
            ],
            "image/png": "[encoded data removed]"
          },
          "metadata": {}
        },
        {
          "output_type": "display_data",
          "data": {
            "text/plain": [
              "<Figure size 640x480 with 1 Axes>"
            ],
            "image/png": "[encoded data removed]"
          },
          "metadata": {}
        }
      ],
      "source": [
        "c = 'red'\n",
        "plotGoc(Goc_ob,c)\n",
        "plotGrc(Grc_ob,c)\n",
        "plotPC(PC_ob,c)"
      ]
    },
    {
      "cell_type": "code",
      "execution_count": null,
      "metadata": {
        "colab": {
          "base_uri": "https://localhost:8080/"
        },
        "id": "jWljd9TZnWal",
        "outputId": "4ba5bb86-caa2-4219-e63c-a6978578bb77"
      },
      "outputs": [
        {
          "output_type": "stream",
          "name": "stdout",
          "text": [
            "----------------Decoding-------------------\n",
            "\n",
            "\n",
            " Weight: [[0.01 0.01 0.01 0.01 0.01 0.01 0.01]\n",
            " [0.01 0.01 0.01 0.01 0.01 0.01 0.01]]\n"
          ]
        }
      ],
      "source": [
        "print('----------------Decoding-------------------')\n",
        "pre_mtr_angle = [None]\n",
        "pre_mtr_angle[0], wt, fwd = [None], None, [[None]]\n",
        "pre_mtr_angle[0][0], wt, fwd[0][0] = decoding(temp, trainout[0][0], 0, 0, 0, 0)\n",
        "# pre_mtr_angle = [None]\n",
        "# pre_mtr_angle[0], wt, fwd = [None], None, [[None]]\n",
        "# decoded_value, wt, fwd_value = decoding(temp, trainout[0][0], 0, 0, 0, 0)\n",
        "# if decoded_value is not None:\n",
        "#     pre_mtr_angle[0] = decoded_value\n",
        "\n",
        "print(\"\\n\\n Weight:\",wt)\n",
        "# # Check the type of wt and reshape if necessary\n",
        "# if wt is not None:\n",
        "#     if isinstance(wt, list):\n",
        "\n",
        "#       max_len = max(len(sublist) for sublist in wt)  # find the maximum sub-list length\n",
        "#       wt = np.array([sublist + [0] * (max_len - len(sublist)) for sublist in wt])\n",
        "\n",
        "#       wt.reshape((2, -1))  # Reshape after padding\n",
        "\n",
        "# if fwd_value is not None and fwd is not None:\n",
        "#     fwd[0][0] = fwd_value"
      ]
    },
    {
      "cell_type": "code",
      "execution_count": null,
      "metadata": {
        "colab": {
          "base_uri": "https://localhost:8080/"
        },
        "id": "6W4hyucxnm5Y",
        "outputId": "3833480a-bc48-4a03-b3e9-6f1e438bcc75"
      },
      "outputs": [
        {
          "output_type": "stream",
          "name": "stdout",
          "text": [
            "----------------Error and weight consolidation-------------------\n",
            "[array([[5.65997673, 0.6473248 , 1.08562073, ..., 8.55632338, 2.38700358,\n",
            "        7.86666602],\n",
            "       [1.46499055, 5.48134397, 2.7454382 , ..., 0.17829349, 6.25702749,\n",
            "        6.32863297],\n",
            "       [7.21022946, 7.56454505, 6.65509518, ..., 5.12142608, 8.39231565,\n",
            "        5.554991  ],\n",
            "       ...,\n",
            "       [2.78422356, 1.79012948, 4.96620079, ..., 1.50863627, 5.17672857,\n",
            "        6.1112157 ],\n",
            "       [9.34944296, 0.09162464, 3.19102007, ..., 6.34254222, 9.5526661 ,\n",
            "        3.09489237],\n",
            "       [4.89120679, 4.57569702, 5.65635023, ..., 1.99211064, 6.75178269,\n",
            "        8.0065653 ]]), array([[ 7.36874417],\n",
            "       [ 6.36937357],\n",
            "       [ 4.15066872],\n",
            "       [ 6.79522105],\n",
            "       [ 4.13361406],\n",
            "       [ 8.52010177],\n",
            "       [ 4.09620489],\n",
            "       [ 8.36621982],\n",
            "       [ 6.48917595],\n",
            "       [10.18461193],\n",
            "       [ 0.78166489],\n",
            "       [ 7.83462923],\n",
            "       [ 1.23340882],\n",
            "       [ 9.53800059],\n",
            "       [ 0.48716369],\n",
            "       [ 2.42395368],\n",
            "       [10.2118379 ],\n",
            "       [10.67131358],\n",
            "       [ 9.48623944],\n",
            "       [10.65008036],\n",
            "       [ 5.45440938],\n",
            "       [ 4.94948727],\n",
            "       [ 2.5097081 ],\n",
            "       [ 9.23822598],\n",
            "       [ 2.92296293],\n",
            "       [ 0.31677636],\n",
            "       [ 4.49101786],\n",
            "       [ 3.21572903],\n",
            "       [ 5.45848599],\n",
            "       [ 8.04888917],\n",
            "       [ 3.61473736],\n",
            "       [10.52606761],\n",
            "       [ 8.93631181],\n",
            "       [ 9.14744189],\n",
            "       [ 7.30276625],\n",
            "       [ 0.54735958],\n",
            "       [ 3.97136443],\n",
            "       [ 7.28287031],\n",
            "       [ 5.48358333],\n",
            "       [ 6.09895576],\n",
            "       [ 6.93094221],\n",
            "       [ 5.62504301],\n",
            "       [ 2.04630849],\n",
            "       [ 3.65526697],\n",
            "       [ 3.51207537],\n",
            "       [ 7.88450758],\n",
            "       [10.87757848],\n",
            "       [ 7.44611817],\n",
            "       [10.68860474],\n",
            "       [ 7.1992321 ],\n",
            "       [ 0.9309291 ],\n",
            "       [ 8.59076968],\n",
            "       [ 1.06774482],\n",
            "       [ 1.1574634 ],\n",
            "       [ 1.91370957],\n",
            "       [ 0.28668163],\n",
            "       [ 9.33508851],\n",
            "       [ 8.34205024],\n",
            "       [ 2.84334157],\n",
            "       [ 6.52121578],\n",
            "       [ 1.4415213 ],\n",
            "       [ 3.72769047],\n",
            "       [ 4.49861658],\n",
            "       [ 2.20992321],\n",
            "       [ 1.73246873],\n",
            "       [10.38260559],\n",
            "       [ 7.2201331 ],\n",
            "       [ 4.87791385],\n",
            "       [ 1.25373045],\n",
            "       [ 9.48029616],\n",
            "       [ 6.19485179],\n",
            "       [10.60630316],\n",
            "       [ 1.91372846],\n",
            "       [ 2.95114683],\n",
            "       [ 2.81322281],\n",
            "       [ 0.35404322],\n",
            "       [ 5.21565155],\n",
            "       [ 2.8522517 ],\n",
            "       [ 7.17936286],\n",
            "       [ 7.13113528],\n",
            "       [ 0.98138916],\n",
            "       [ 6.74931286],\n",
            "       [ 1.354247  ],\n",
            "       [10.6952741 ],\n",
            "       [ 4.95935212],\n",
            "       [ 5.25011425],\n",
            "       [ 4.35904642],\n",
            "       [10.2751309 ],\n",
            "       [10.81684216],\n",
            "       [ 5.45555922],\n",
            "       [ 5.03697691],\n",
            "       [ 4.34891392],\n",
            "       [ 8.78834709],\n",
            "       [ 0.33750873],\n",
            "       [ 6.76546836],\n",
            "       [ 5.61248862],\n",
            "       [ 8.93380906],\n",
            "       [ 2.8351667 ],\n",
            "       [ 4.05197193],\n",
            "       [ 8.74347854],\n",
            "       [ 9.90615904],\n",
            "       [ 6.09168697],\n",
            "       [ 8.99620297],\n",
            "       [ 4.98284599],\n",
            "       [ 3.47297015],\n",
            "       [ 4.31406316],\n",
            "       [ 6.63968306],\n",
            "       [ 1.08720135],\n",
            "       [ 2.66203315],\n",
            "       [ 3.00436312],\n",
            "       [ 2.15699095],\n",
            "       [ 4.25955344],\n",
            "       [ 5.23301349],\n",
            "       [ 8.45212483],\n",
            "       [ 0.4963667 ],\n",
            "       [ 6.20707602],\n",
            "       [ 5.05078123],\n",
            "       [ 5.82939996],\n",
            "       [ 6.23664362],\n",
            "       [ 2.57641651],\n",
            "       [ 6.46053902],\n",
            "       [ 4.58212622],\n",
            "       [ 5.03133578],\n",
            "       [ 7.18177577],\n",
            "       [ 4.04676225],\n",
            "       [ 7.06818268],\n",
            "       [ 9.5505669 ],\n",
            "       [ 4.57256089],\n",
            "       [ 6.91266038],\n",
            "       [ 7.56711419],\n",
            "       [ 7.74677791],\n",
            "       [ 1.77134901],\n",
            "       [ 1.76775682],\n",
            "       [ 8.781333  ],\n",
            "       [ 0.22284642],\n",
            "       [ 5.35478317],\n",
            "       [ 0.27801863],\n",
            "       [ 4.87387028],\n",
            "       [ 4.0808054 ],\n",
            "       [ 9.77058236],\n",
            "       [ 5.50372301],\n",
            "       [ 2.31149465],\n",
            "       [ 5.39858889],\n",
            "       [ 9.11793258],\n",
            "       [ 2.33580628],\n",
            "       [10.80622789],\n",
            "       [ 0.0312622 ],\n",
            "       [ 5.09165839],\n",
            "       [ 1.64507161],\n",
            "       [ 8.82512144],\n",
            "       [ 9.47391366],\n",
            "       [ 2.98986005],\n",
            "       [ 4.89945969],\n",
            "       [ 5.43710068],\n",
            "       [ 1.19451156],\n",
            "       [ 1.04696282],\n",
            "       [ 9.85175619],\n",
            "       [ 5.73339372],\n",
            "       [ 0.90481897]])]\n",
            "\n",
            " [[0.01 0.01 0.01 0.01 0.01 0.01 0.01]\n",
            " [0.01 0.01 0.01 0.01 0.01 0.01 0.01]]\n",
            "[[0.01 0.01 0.01 0.01 0.01 0.01 0.01]\n",
            " [0.01 0.01 0.01 0.01 0.01 0.01 0.01]]\n"
          ]
        }
      ],
      "source": [
        "print('----------------Error and weight consolidation-------------------')\n",
        "err_with_sign = np.array([[trainout[0, 0] - pre_mtr_angle[0][0]]])\n",
        "\n",
        "motor_err = []\n",
        "motor_err.append(np.array([[err_with_sign[0, 0]]]))\n",
        "print(tot_wt)\n",
        "#tot_wt = [None, None, [None]]\n",
        "tot_wt.append(wt)\n",
        "print(\"\\n\",tot_wt[2])\n",
        "# Weight in the network for each input pattern is stored\n",
        "wt_4_memoryconsolidated = [tot_wt]\n",
        "print(wt_4_memoryconsolidated[0][2])"
      ]
    },
    {
      "cell_type": "code",
      "execution_count": null,
      "metadata": {
        "colab": {
          "base_uri": "https://localhost:8080/"
        },
        "id": "OchyVONWnrrB",
        "outputId": "bcc81eb9-9565-4d03-9cbf-3ddb60292bad"
      },
      "outputs": [
        {
          "output_type": "stream",
          "name": "stdout",
          "text": [
            "------------------------Training phase------------------------\n",
            "0\n"
          ]
        },
        {
          "output_type": "stream",
          "name": "stderr",
          "text": [
            "<ipython-input-82-52861c3ec6f6>:86: DeprecationWarning: Conversion of an array with ndim > 0 to a scalar is deprecated, and will error in future. Ensure you extract a single element from your array before performing this operation. (Deprecated NumPy 1.25.)\n",
            "  wt[MF, i] -= lr * e2 * wt[MF, i]\n",
            "<ipython-input-83-d711839842d2>:62: DeprecationWarning: Conversion of an array with ndim > 0 to a scalar is deprecated, and will error in future. Ensure you extract a single element from your array before performing this operation. (Deprecated NumPy 1.25.)\n",
            "  wt[Grc,i] -= lr * e1[i] * wt[Grc,i]\n"
          ]
        },
        {
          "output_type": "stream",
          "name": "stdout",
          "text": [
            "1\n"
          ]
        },
        {
          "output_type": "stream",
          "name": "stderr",
          "text": [
            "<ipython-input-89-9353347eae4b>:24: DeprecationWarning: Conversion of an array with ndim > 0 to a scalar is deprecated, and will error in future. Ensure you extract a single element from your array before performing this operation. (Deprecated NumPy 1.25.)\n",
            "  wgt[-1][i] -= (err_Out * fwd[check][i])\n"
          ]
        },
        {
          "output_type": "stream",
          "name": "stdout",
          "text": [
            "2\n",
            "3\n",
            "4\n",
            "5\n",
            "6\n",
            "7\n",
            "8\n",
            "9\n",
            "[[-1.]\n",
            " [ 0.]\n",
            " [ 0.]\n",
            " [ 0.]\n",
            " [-1.]\n",
            " [ 0.]\n",
            " [-1.]\n",
            " [-1.]]\n",
            "Training Time: 653.3795344829559 seconds\n"
          ]
        }
      ],
      "source": [
        "print('------------------------Training phase------------------------')\n",
        "\n",
        "Grc_ob, PC_ob, _, err_with_sign = training(mf_spiketime[0:t-1], trainout, 1, Goc_ob, Grc_ob, PC_ob, fwd)\n",
        "print(err_with_sign)\n",
        "end_time = time.time()\n",
        "print(f\"Training Time: {end_time - start_time} seconds\")\n",
        "\n",
        "start_time = time.time()"
      ]
    },
    {
      "cell_type": "code",
      "execution_count": null,
      "metadata": {
        "colab": {
          "base_uri": "https://localhost:8080/"
        },
        "id": "qBWWr0S0nxNT",
        "outputId": "21cf3dea-4b53-4b66-8c79-22ad542adb70"
      },
      "outputs": [
        {
          "output_type": "stream",
          "name": "stdout",
          "text": [
            "------------------------Testing phase------------------------\n",
            "[array([[  0.   ,   0.   ,   0.   , ...,   0.   ,   0.   ,   0.   ],\n",
            "       [260.425,   0.   ,   0.   , ...,   0.   ,   0.   ,   0.   ],\n",
            "       [  0.   ,   0.   ,   0.   , ...,   0.   ,   0.   ,   0.   ],\n",
            "       ...,\n",
            "       [  0.   ,   0.   ,   0.   , ...,   0.   ,   0.   ,   0.   ],\n",
            "       [260.425,   0.   ,   0.   , ...,   0.   ,   0.   ,   0.   ],\n",
            "       [  0.   ,   0.   ,   0.   , ...,   0.   ,   0.   ,   0.   ]]), array([[ 71.925,  72.3  ,  72.375, ...,   0.   ,   0.   ,   0.   ],\n",
            "       [ 50.675,  87.25 , 130.925, ...,   0.   ,   0.   ,   0.   ],\n",
            "       [ 71.925,  72.3  ,  72.375, ...,   0.   ,   0.   ,   0.   ],\n",
            "       ...,\n",
            "       [  0.   ,   0.   ,   0.   , ...,   0.   ,   0.   ,   0.   ],\n",
            "       [260.425,   0.   ,   0.   , ...,   0.   ,   0.   ,   0.   ],\n",
            "       [  0.   ,   0.   ,   0.   , ...,   0.   ,   0.   ,   0.   ]]), array([[  0.   ],\n",
            "       [260.425],\n",
            "       [  0.   ],\n",
            "       [  0.   ],\n",
            "       [260.425],\n",
            "       [  0.   ],\n",
            "       [  0.   ],\n",
            "       [260.425],\n",
            "       [  0.   ],\n",
            "       [  0.   ],\n",
            "       [260.425],\n",
            "       [  0.   ]]), array([[ 71.925,  72.3  ,  72.375, ..., 299.9  , 299.95 , 300.   ],\n",
            "       [ 50.675,  87.25 , 130.925, ...,   0.   ,   0.   ,   0.   ],\n",
            "       [ 71.925,   0.   ,   0.   , ...,   0.   ,   0.   ,   0.   ],\n",
            "       ...,\n",
            "       [  0.   ,   0.   ,   0.   , ...,   0.   ,   0.   ,   0.   ],\n",
            "       [260.425,   0.   ,   0.   , ...,   0.   ,   0.   ,   0.   ],\n",
            "       [  0.   ,   0.   ,   0.   , ...,   0.   ,   0.   ,   0.   ]]), array([[ 71.925,  72.3  ,  72.375, ...,   0.   ,   0.   ,   0.   ],\n",
            "       [ 50.675,  87.25 , 130.925, ...,   0.   ,   0.   ,   0.   ],\n",
            "       [ 71.925,  72.3  ,  72.375, ...,   0.   ,   0.   ,   0.   ],\n",
            "       ...,\n",
            "       [ 42.125,  42.5  ,  43.175, ..., 299.9  , 299.95 , 300.   ],\n",
            "       [ 29.55 ,  55.5  ,  81.45 , ...,   0.   ,   0.   ,   0.   ],\n",
            "       [ 42.125,   0.   ,   0.   , ...,   0.   ,   0.   ,   0.   ]]), array([[  0.   ,   0.   ,   0.   , ...,   0.   ,   0.   ,   0.   ],\n",
            "       [260.425,   0.   ,   0.   , ...,   0.   ,   0.   ,   0.   ],\n",
            "       [  0.   ,   0.   ,   0.   , ...,   0.   ,   0.   ,   0.   ],\n",
            "       ...,\n",
            "       [ 42.125,  42.5  ,  43.175, ..., 299.9  , 299.95 , 300.   ],\n",
            "       [ 29.55 ,  55.5  ,  81.45 , ...,   0.   ,   0.   ,   0.   ],\n",
            "       [ 42.125,   0.   ,   0.   , ...,   0.   ,   0.   ,   0.   ]]), array([[ 42.125,  42.5  ,  43.175, ..., 299.9  , 299.95 , 300.   ],\n",
            "       [ 29.55 ,  55.5  ,  81.45 , ...,   0.   ,   0.   ,   0.   ],\n",
            "       [ 42.125,   0.   ,   0.   , ...,   0.   ,   0.   ,   0.   ],\n",
            "       ...,\n",
            "       [ 42.125,  42.5  ,  43.175, ..., 299.9  , 299.95 , 300.   ],\n",
            "       [ 29.55 ,  55.5  ,  81.45 , ...,   0.   ,   0.   ,   0.   ],\n",
            "       [ 42.125,   0.   ,   0.   , ...,   0.   ,   0.   ,   0.   ]]), array([[ 42.125,  42.5  ,  43.175, ..., 299.9  , 299.95 , 300.   ],\n",
            "       [ 29.55 ,  55.5  ,  81.45 , ...,   0.   ,   0.   ,   0.   ],\n",
            "       [ 42.125,   0.   ,   0.   , ...,   0.   ,   0.   ,   0.   ],\n",
            "       ...,\n",
            "       [ 42.125,  42.5  ,  43.175, ..., 299.9  , 299.95 , 300.   ],\n",
            "       [ 29.55 ,  55.5  ,  81.45 , ...,   0.   ,   0.   ,   0.   ],\n",
            "       [ 42.125,   0.   ,   0.   , ...,   0.   ,   0.   ,   0.   ]]), array([[ 42.125,  42.5  ,  43.175, ..., 299.9  , 299.95 , 300.   ],\n",
            "       [ 29.55 ,  55.5  ,  81.45 , ...,   0.   ,   0.   ,   0.   ],\n",
            "       [ 42.125,   0.   ,   0.   , ...,   0.   ,   0.   ,   0.   ],\n",
            "       ...,\n",
            "       [  0.   ,   0.   ,   0.   , ...,   0.   ,   0.   ,   0.   ],\n",
            "       [260.425,   0.   ,   0.   , ...,   0.   ,   0.   ,   0.   ],\n",
            "       [  0.   ,   0.   ,   0.   , ...,   0.   ,   0.   ,   0.   ]]), array([[ 42.125,  42.5  ,  43.175, ..., 299.9  , 299.95 , 300.   ],\n",
            "       [ 29.55 ,  55.5  ,  81.45 , ...,   0.   ,   0.   ,   0.   ],\n",
            "       [ 42.125,   0.   ,   0.   , ...,   0.   ,   0.   ,   0.   ],\n",
            "       ...,\n",
            "       [  0.   ,   0.   ,   0.   , ...,   0.   ,   0.   ,   0.   ],\n",
            "       [260.425,   0.   ,   0.   , ...,   0.   ,   0.   ,   0.   ],\n",
            "       [  0.   ,   0.   ,   0.   , ...,   0.   ,   0.   ,   0.   ]]), array([[ 71.925,  72.3  ,  72.375, ...,   0.   ,   0.   ,   0.   ],\n",
            "       [ 50.675,  87.25 , 130.925, ...,   0.   ,   0.   ,   0.   ],\n",
            "       [ 71.925,  72.3  ,  72.375, ...,   0.   ,   0.   ,   0.   ],\n",
            "       ...,\n",
            "       [ 42.125,  42.5  ,  43.175, ..., 299.9  , 299.95 , 300.   ],\n",
            "       [ 29.55 ,  55.5  ,  81.45 , ...,   0.   ,   0.   ,   0.   ],\n",
            "       [ 42.125,   0.   ,   0.   , ...,   0.   ,   0.   ,   0.   ]]), array([[  0.   ,   0.   ,   0.   , ...,   0.   ,   0.   ,   0.   ],\n",
            "       [260.425,   0.   ,   0.   , ...,   0.   ,   0.   ,   0.   ],\n",
            "       [  0.   ,   0.   ,   0.   , ...,   0.   ,   0.   ,   0.   ],\n",
            "       ...,\n",
            "       [ 42.125,  42.5  ,  43.175, ..., 299.9  , 299.95 , 300.   ],\n",
            "       [ 29.55 ,  55.5  ,  81.45 , ...,   0.   ,   0.   ,   0.   ],\n",
            "       [ 42.125,   0.   ,   0.   , ...,   0.   ,   0.   ,   0.   ]]), array([[  0.   ,   0.   ,   0.   , ...,   0.   ,   0.   ,   0.   ],\n",
            "       [260.425,   0.   ,   0.   , ...,   0.   ,   0.   ,   0.   ],\n",
            "       [  0.   ,   0.   ,   0.   , ...,   0.   ,   0.   ,   0.   ],\n",
            "       ...,\n",
            "       [ 42.125,  42.5  ,  43.175, ..., 299.9  , 299.95 , 300.   ],\n",
            "       [ 29.55 ,  55.5  ,  81.45 , ...,   0.   ,   0.   ,   0.   ],\n",
            "       [ 42.125,   0.   ,   0.   , ...,   0.   ,   0.   ,   0.   ]])]\n",
            "Testing Time: 7.354177951812744 seconds\n"
          ]
        }
      ],
      "source": [
        "print('------------------------Testing phase------------------------')\n",
        "pre_mtr_angle, testerr = testpart(mf_spiketime[t:-1],testdata, testout, cnt_MF, Goc_ob, Grc_ob, PC_ob)\n",
        "end_time = time.time()\n",
        "print(f\"Testing Time: {end_time - start_time} seconds\")"
      ]
    },
    {
      "cell_type": "code",
      "execution_count": null,
      "metadata": {
        "colab": {
          "base_uri": "https://localhost:8080/"
        },
        "id": "Dsa9Cep-n8Ux",
        "outputId": "4843cb27-f92f-4fac-9d68-8d8caa87e2f8"
      },
      "outputs": [
        {
          "output_type": "stream",
          "name": "stdout",
          "text": [
            "------------------------Error percent------------------------\n",
            "44.44444444444444\n",
            "75.0\n"
          ]
        }
      ],
      "source": [
        "print('------------------------Error percent------------------------')\n",
        "tot = np.sum(np.abs(motor_err[-1]))\n",
        "trainerrpercent = (tot / trainout.shape[0]) * 100\n",
        "tot1 = np.sum(np.abs(testerr))\n",
        "testerrpercent = (tot1 / testout.shape[0]) * 100\n",
        "print(trainerrpercent)\n",
        "print(testerrpercent)"
      ]
    }
  ],
  "metadata": {
    "colab": {
      "gpuType": "T4",
      "provenance": []
    },
    "kernelspec": {
      "display_name": "Python 3",
      "name": "python3"
    },
    "language_info": {
      "name": "python"
    }
  },
  "nbformat": 4,
  "nbformat_minor": 0
}